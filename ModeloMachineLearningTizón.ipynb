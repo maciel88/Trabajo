{
  "cells": [
    {
      "cell_type": "markdown",
      "metadata": {
        "id": "view-in-github",
        "colab_type": "text"
      },
      "source": [
        "<a href=\"https://colab.research.google.com/github/maciel88/Trabajo/blob/main/ModeloMachineLearningTiz%C3%B3n.ipynb\" target=\"_parent\"><img src=\"https://colab.research.google.com/assets/colab-badge.svg\" alt=\"Open In Colab\"/></a>"
      ]
    },
    {
      "cell_type": "markdown",
      "source": [
        "MODELO DE MACHINE LEARNING PARA PREDECIR ENFERMEDADES EN EL CULTIVO DE LA PAPA"
      ],
      "metadata": {
        "id": "6cXyKv8iYy7E"
      }
    },
    {
      "cell_type": "code",
      "execution_count": 2,
      "metadata": {
        "id": "IhoxzpSoI9Cm"
      },
      "outputs": [],
      "source": [
        "#Se importan las siguientes librerías a usar\n",
        "import pandas as pd\n",
        "import numpy as np\n",
        "import matplotlib.pyplot as plt\n",
        "import seaborn as sns\n",
        "from sklearn.preprocessing import MinMaxScaler, StandardScaler\n",
        "from sklearn import metrics\n"
      ]
    },
    {
      "cell_type": "code",
      "execution_count": 3,
      "metadata": {
        "colab": {
          "base_uri": "https://localhost:8080/"
        },
        "id": "vY5EwCEzm7OO",
        "outputId": "8a69cd27-dcb9-4055-fb47-00fa21b7a751"
      },
      "outputs": [
        {
          "output_type": "stream",
          "name": "stdout",
          "text": [
            "[Errno 2] No such file or directory: '/content/drive/My Drive/Colab Notebooks'\n",
            "/content\n"
          ]
        }
      ],
      "source": [
        "#Se accede a la ruta donde está ubicada el archivo\n",
        "%cd '/content/drive/My Drive/Colab Notebooks'"
      ]
    },
    {
      "cell_type": "markdown",
      "source": [
        "Cargar base de datos"
      ],
      "metadata": {
        "id": "-9iZkZ3gMyv_"
      }
    },
    {
      "cell_type": "code",
      "execution_count": 5,
      "metadata": {
        "id": "gmooFqAlnicY"
      },
      "outputs": [],
      "source": [
        "# Se crea una variable data que contendrá la bases de datos\n",
        "data=pd.read_csv(\"dataPrediction.csv\")"
      ]
    },
    {
      "cell_type": "code",
      "source": [
        "# Visualizamos la base de datos\n",
        "data"
      ],
      "metadata": {
        "colab": {
          "base_uri": "https://localhost:8080/",
          "height": 424
        },
        "id": "hBvaW0lM5RMX",
        "outputId": "ec52e10a-67ab-4774-9764-095e444003a8"
      },
      "execution_count": 6,
      "outputs": [
        {
          "output_type": "execute_result",
          "data": {
            "text/plain": [
              "      Temperatura  Humedad  Velocidad_viento  Direccion_viento  Visibilidad  \\\n",
              "0            18.7       77               6.9                63         11.0   \n",
              "1            23.4       64               4.6               137          8.9   \n",
              "2            20.1       72               3.2               188         10.0   \n",
              "3            25.6       61               7.1               282          9.6   \n",
              "4            19.5       78               5.5               104         12.5   \n",
              "...           ...      ...               ...               ...          ...   \n",
              "4015         21.3       75               3.9               131         11.9   \n",
              "4016         25.1       67               7.4               257          8.4   \n",
              "4017         19.7       79               4.0                93         11.1   \n",
              "4018         28.3       58               9.6               354          8.8   \n",
              "4019         26.2       62               8.0               248          9.0   \n",
              "\n",
              "      Presion    Enfermedad  Enfermedad_por_numero  \n",
              "0      1015.5  Early Blight                      1  \n",
              "1      1017.0   Late Blight                      0  \n",
              "2      1014.8  Early Blight                      1  \n",
              "3      1015.2   Late Blight                      0  \n",
              "4      1016.1  Early Blight                      1  \n",
              "...       ...           ...                    ...  \n",
              "4015   1015.6  Early Blight                      1  \n",
              "4016   1016.0   Late Blight                      0  \n",
              "4017   1014.5  Early Blight                      1  \n",
              "4018   1015.4   Late Blight                      0  \n",
              "4019   1015.5  Early Blight                      1  \n",
              "\n",
              "[4020 rows x 8 columns]"
            ],
            "text/html": [
              "\n",
              "  <div id=\"df-c6c5ea6c-8264-450c-896e-84090b3d9f2d\" class=\"colab-df-container\">\n",
              "    <div>\n",
              "<style scoped>\n",
              "    .dataframe tbody tr th:only-of-type {\n",
              "        vertical-align: middle;\n",
              "    }\n",
              "\n",
              "    .dataframe tbody tr th {\n",
              "        vertical-align: top;\n",
              "    }\n",
              "\n",
              "    .dataframe thead th {\n",
              "        text-align: right;\n",
              "    }\n",
              "</style>\n",
              "<table border=\"1\" class=\"dataframe\">\n",
              "  <thead>\n",
              "    <tr style=\"text-align: right;\">\n",
              "      <th></th>\n",
              "      <th>Temperatura</th>\n",
              "      <th>Humedad</th>\n",
              "      <th>Velocidad_viento</th>\n",
              "      <th>Direccion_viento</th>\n",
              "      <th>Visibilidad</th>\n",
              "      <th>Presion</th>\n",
              "      <th>Enfermedad</th>\n",
              "      <th>Enfermedad_por_numero</th>\n",
              "    </tr>\n",
              "  </thead>\n",
              "  <tbody>\n",
              "    <tr>\n",
              "      <th>0</th>\n",
              "      <td>18.7</td>\n",
              "      <td>77</td>\n",
              "      <td>6.9</td>\n",
              "      <td>63</td>\n",
              "      <td>11.0</td>\n",
              "      <td>1015.5</td>\n",
              "      <td>Early Blight</td>\n",
              "      <td>1</td>\n",
              "    </tr>\n",
              "    <tr>\n",
              "      <th>1</th>\n",
              "      <td>23.4</td>\n",
              "      <td>64</td>\n",
              "      <td>4.6</td>\n",
              "      <td>137</td>\n",
              "      <td>8.9</td>\n",
              "      <td>1017.0</td>\n",
              "      <td>Late Blight</td>\n",
              "      <td>0</td>\n",
              "    </tr>\n",
              "    <tr>\n",
              "      <th>2</th>\n",
              "      <td>20.1</td>\n",
              "      <td>72</td>\n",
              "      <td>3.2</td>\n",
              "      <td>188</td>\n",
              "      <td>10.0</td>\n",
              "      <td>1014.8</td>\n",
              "      <td>Early Blight</td>\n",
              "      <td>1</td>\n",
              "    </tr>\n",
              "    <tr>\n",
              "      <th>3</th>\n",
              "      <td>25.6</td>\n",
              "      <td>61</td>\n",
              "      <td>7.1</td>\n",
              "      <td>282</td>\n",
              "      <td>9.6</td>\n",
              "      <td>1015.2</td>\n",
              "      <td>Late Blight</td>\n",
              "      <td>0</td>\n",
              "    </tr>\n",
              "    <tr>\n",
              "      <th>4</th>\n",
              "      <td>19.5</td>\n",
              "      <td>78</td>\n",
              "      <td>5.5</td>\n",
              "      <td>104</td>\n",
              "      <td>12.5</td>\n",
              "      <td>1016.1</td>\n",
              "      <td>Early Blight</td>\n",
              "      <td>1</td>\n",
              "    </tr>\n",
              "    <tr>\n",
              "      <th>...</th>\n",
              "      <td>...</td>\n",
              "      <td>...</td>\n",
              "      <td>...</td>\n",
              "      <td>...</td>\n",
              "      <td>...</td>\n",
              "      <td>...</td>\n",
              "      <td>...</td>\n",
              "      <td>...</td>\n",
              "    </tr>\n",
              "    <tr>\n",
              "      <th>4015</th>\n",
              "      <td>21.3</td>\n",
              "      <td>75</td>\n",
              "      <td>3.9</td>\n",
              "      <td>131</td>\n",
              "      <td>11.9</td>\n",
              "      <td>1015.6</td>\n",
              "      <td>Early Blight</td>\n",
              "      <td>1</td>\n",
              "    </tr>\n",
              "    <tr>\n",
              "      <th>4016</th>\n",
              "      <td>25.1</td>\n",
              "      <td>67</td>\n",
              "      <td>7.4</td>\n",
              "      <td>257</td>\n",
              "      <td>8.4</td>\n",
              "      <td>1016.0</td>\n",
              "      <td>Late Blight</td>\n",
              "      <td>0</td>\n",
              "    </tr>\n",
              "    <tr>\n",
              "      <th>4017</th>\n",
              "      <td>19.7</td>\n",
              "      <td>79</td>\n",
              "      <td>4.0</td>\n",
              "      <td>93</td>\n",
              "      <td>11.1</td>\n",
              "      <td>1014.5</td>\n",
              "      <td>Early Blight</td>\n",
              "      <td>1</td>\n",
              "    </tr>\n",
              "    <tr>\n",
              "      <th>4018</th>\n",
              "      <td>28.3</td>\n",
              "      <td>58</td>\n",
              "      <td>9.6</td>\n",
              "      <td>354</td>\n",
              "      <td>8.8</td>\n",
              "      <td>1015.4</td>\n",
              "      <td>Late Blight</td>\n",
              "      <td>0</td>\n",
              "    </tr>\n",
              "    <tr>\n",
              "      <th>4019</th>\n",
              "      <td>26.2</td>\n",
              "      <td>62</td>\n",
              "      <td>8.0</td>\n",
              "      <td>248</td>\n",
              "      <td>9.0</td>\n",
              "      <td>1015.5</td>\n",
              "      <td>Early Blight</td>\n",
              "      <td>1</td>\n",
              "    </tr>\n",
              "  </tbody>\n",
              "</table>\n",
              "<p>4020 rows × 8 columns</p>\n",
              "</div>\n",
              "    <div class=\"colab-df-buttons\">\n",
              "\n",
              "  <div class=\"colab-df-container\">\n",
              "    <button class=\"colab-df-convert\" onclick=\"convertToInteractive('df-c6c5ea6c-8264-450c-896e-84090b3d9f2d')\"\n",
              "            title=\"Convert this dataframe to an interactive table.\"\n",
              "            style=\"display:none;\">\n",
              "\n",
              "  <svg xmlns=\"http://www.w3.org/2000/svg\" height=\"24px\" viewBox=\"0 -960 960 960\">\n",
              "    <path d=\"M120-120v-720h720v720H120Zm60-500h600v-160H180v160Zm220 220h160v-160H400v160Zm0 220h160v-160H400v160ZM180-400h160v-160H180v160Zm440 0h160v-160H620v160ZM180-180h160v-160H180v160Zm440 0h160v-160H620v160Z\"/>\n",
              "  </svg>\n",
              "    </button>\n",
              "\n",
              "  <style>\n",
              "    .colab-df-container {\n",
              "      display:flex;\n",
              "      gap: 12px;\n",
              "    }\n",
              "\n",
              "    .colab-df-convert {\n",
              "      background-color: #E8F0FE;\n",
              "      border: none;\n",
              "      border-radius: 50%;\n",
              "      cursor: pointer;\n",
              "      display: none;\n",
              "      fill: #1967D2;\n",
              "      height: 32px;\n",
              "      padding: 0 0 0 0;\n",
              "      width: 32px;\n",
              "    }\n",
              "\n",
              "    .colab-df-convert:hover {\n",
              "      background-color: #E2EBFA;\n",
              "      box-shadow: 0px 1px 2px rgba(60, 64, 67, 0.3), 0px 1px 3px 1px rgba(60, 64, 67, 0.15);\n",
              "      fill: #174EA6;\n",
              "    }\n",
              "\n",
              "    .colab-df-buttons div {\n",
              "      margin-bottom: 4px;\n",
              "    }\n",
              "\n",
              "    [theme=dark] .colab-df-convert {\n",
              "      background-color: #3B4455;\n",
              "      fill: #D2E3FC;\n",
              "    }\n",
              "\n",
              "    [theme=dark] .colab-df-convert:hover {\n",
              "      background-color: #434B5C;\n",
              "      box-shadow: 0px 1px 3px 1px rgba(0, 0, 0, 0.15);\n",
              "      filter: drop-shadow(0px 1px 2px rgba(0, 0, 0, 0.3));\n",
              "      fill: #FFFFFF;\n",
              "    }\n",
              "  </style>\n",
              "\n",
              "    <script>\n",
              "      const buttonEl =\n",
              "        document.querySelector('#df-c6c5ea6c-8264-450c-896e-84090b3d9f2d button.colab-df-convert');\n",
              "      buttonEl.style.display =\n",
              "        google.colab.kernel.accessAllowed ? 'block' : 'none';\n",
              "\n",
              "      async function convertToInteractive(key) {\n",
              "        const element = document.querySelector('#df-c6c5ea6c-8264-450c-896e-84090b3d9f2d');\n",
              "        const dataTable =\n",
              "          await google.colab.kernel.invokeFunction('convertToInteractive',\n",
              "                                                    [key], {});\n",
              "        if (!dataTable) return;\n",
              "\n",
              "        const docLinkHtml = 'Like what you see? Visit the ' +\n",
              "          '<a target=\"_blank\" href=https://colab.research.google.com/notebooks/data_table.ipynb>data table notebook</a>'\n",
              "          + ' to learn more about interactive tables.';\n",
              "        element.innerHTML = '';\n",
              "        dataTable['output_type'] = 'display_data';\n",
              "        await google.colab.output.renderOutput(dataTable, element);\n",
              "        const docLink = document.createElement('div');\n",
              "        docLink.innerHTML = docLinkHtml;\n",
              "        element.appendChild(docLink);\n",
              "      }\n",
              "    </script>\n",
              "  </div>\n",
              "\n",
              "\n",
              "<div id=\"df-8230d9de-3116-42e2-bf8f-78d93871cbe3\">\n",
              "  <button class=\"colab-df-quickchart\" onclick=\"quickchart('df-8230d9de-3116-42e2-bf8f-78d93871cbe3')\"\n",
              "            title=\"Suggest charts.\"\n",
              "            style=\"display:none;\">\n",
              "\n",
              "<svg xmlns=\"http://www.w3.org/2000/svg\" height=\"24px\"viewBox=\"0 0 24 24\"\n",
              "     width=\"24px\">\n",
              "    <g>\n",
              "        <path d=\"M19 3H5c-1.1 0-2 .9-2 2v14c0 1.1.9 2 2 2h14c1.1 0 2-.9 2-2V5c0-1.1-.9-2-2-2zM9 17H7v-7h2v7zm4 0h-2V7h2v10zm4 0h-2v-4h2v4z\"/>\n",
              "    </g>\n",
              "</svg>\n",
              "  </button>\n",
              "\n",
              "<style>\n",
              "  .colab-df-quickchart {\n",
              "    background-color: #E8F0FE;\n",
              "    border: none;\n",
              "    border-radius: 50%;\n",
              "    cursor: pointer;\n",
              "    display: none;\n",
              "    fill: #1967D2;\n",
              "    height: 32px;\n",
              "    padding: 0 0 0 0;\n",
              "    width: 32px;\n",
              "  }\n",
              "\n",
              "  .colab-df-quickchart:hover {\n",
              "    background-color: #E2EBFA;\n",
              "    box-shadow: 0px 1px 2px rgba(60, 64, 67, 0.3), 0px 1px 3px 1px rgba(60, 64, 67, 0.15);\n",
              "    fill: #174EA6;\n",
              "  }\n",
              "\n",
              "  [theme=dark] .colab-df-quickchart {\n",
              "    background-color: #3B4455;\n",
              "    fill: #D2E3FC;\n",
              "  }\n",
              "\n",
              "  [theme=dark] .colab-df-quickchart:hover {\n",
              "    background-color: #434B5C;\n",
              "    box-shadow: 0px 1px 3px 1px rgba(0, 0, 0, 0.15);\n",
              "    filter: drop-shadow(0px 1px 2px rgba(0, 0, 0, 0.3));\n",
              "    fill: #FFFFFF;\n",
              "  }\n",
              "</style>\n",
              "\n",
              "  <script>\n",
              "    async function quickchart(key) {\n",
              "      const charts = await google.colab.kernel.invokeFunction(\n",
              "          'suggestCharts', [key], {});\n",
              "    }\n",
              "    (() => {\n",
              "      let quickchartButtonEl =\n",
              "        document.querySelector('#df-8230d9de-3116-42e2-bf8f-78d93871cbe3 button');\n",
              "      quickchartButtonEl.style.display =\n",
              "        google.colab.kernel.accessAllowed ? 'block' : 'none';\n",
              "    })();\n",
              "  </script>\n",
              "</div>\n",
              "    </div>\n",
              "  </div>\n"
            ]
          },
          "metadata": {},
          "execution_count": 6
        }
      ]
    },
    {
      "cell_type": "code",
      "execution_count": 7,
      "metadata": {
        "colab": {
          "base_uri": "https://localhost:8080/",
          "height": 300
        },
        "id": "vrrcd-VTf-7a",
        "outputId": "a0c2113e-0f2a-4124-82c5-9fd60d06e8ee"
      },
      "outputs": [
        {
          "output_type": "execute_result",
          "data": {
            "text/plain": [
              "       Temperatura      Humedad  Velocidad_viento  Direccion_viento  \\\n",
              "count  4020.000000  4020.000000       4020.000000       4020.000000   \n",
              "mean     23.580249    67.247264          5.404602        184.280846   \n",
              "std       2.905305     6.814943          2.114070         89.812636   \n",
              "min      17.500000    48.000000          1.200000          0.000000   \n",
              "25%      21.000000    61.000000          3.700000        118.000000   \n",
              "50%      23.400000    68.000000          5.100000        178.000000   \n",
              "75%      26.100000    73.000000          7.100000        258.000000   \n",
              "max      30.400000    83.000000         11.100000        358.000000   \n",
              "\n",
              "       Visibilidad      Presion  Enfermedad_por_numero  \n",
              "count  4020.000000  4020.000000            4020.000000  \n",
              "mean     10.111443  1015.167040               0.513930  \n",
              "std       1.257829     0.595284               0.499868  \n",
              "min       6.900000  1012.600000               0.000000  \n",
              "25%       9.000000  1014.800000               0.000000  \n",
              "50%       9.900000  1015.200000               1.000000  \n",
              "75%      11.300000  1015.600000               1.000000  \n",
              "max      14.500000  1017.200000               1.000000  "
            ],
            "text/html": [
              "\n",
              "  <div id=\"df-073cb9f5-7cc3-4dbb-9d95-1988ef7babfb\" class=\"colab-df-container\">\n",
              "    <div>\n",
              "<style scoped>\n",
              "    .dataframe tbody tr th:only-of-type {\n",
              "        vertical-align: middle;\n",
              "    }\n",
              "\n",
              "    .dataframe tbody tr th {\n",
              "        vertical-align: top;\n",
              "    }\n",
              "\n",
              "    .dataframe thead th {\n",
              "        text-align: right;\n",
              "    }\n",
              "</style>\n",
              "<table border=\"1\" class=\"dataframe\">\n",
              "  <thead>\n",
              "    <tr style=\"text-align: right;\">\n",
              "      <th></th>\n",
              "      <th>Temperatura</th>\n",
              "      <th>Humedad</th>\n",
              "      <th>Velocidad_viento</th>\n",
              "      <th>Direccion_viento</th>\n",
              "      <th>Visibilidad</th>\n",
              "      <th>Presion</th>\n",
              "      <th>Enfermedad_por_numero</th>\n",
              "    </tr>\n",
              "  </thead>\n",
              "  <tbody>\n",
              "    <tr>\n",
              "      <th>count</th>\n",
              "      <td>4020.000000</td>\n",
              "      <td>4020.000000</td>\n",
              "      <td>4020.000000</td>\n",
              "      <td>4020.000000</td>\n",
              "      <td>4020.000000</td>\n",
              "      <td>4020.000000</td>\n",
              "      <td>4020.000000</td>\n",
              "    </tr>\n",
              "    <tr>\n",
              "      <th>mean</th>\n",
              "      <td>23.580249</td>\n",
              "      <td>67.247264</td>\n",
              "      <td>5.404602</td>\n",
              "      <td>184.280846</td>\n",
              "      <td>10.111443</td>\n",
              "      <td>1015.167040</td>\n",
              "      <td>0.513930</td>\n",
              "    </tr>\n",
              "    <tr>\n",
              "      <th>std</th>\n",
              "      <td>2.905305</td>\n",
              "      <td>6.814943</td>\n",
              "      <td>2.114070</td>\n",
              "      <td>89.812636</td>\n",
              "      <td>1.257829</td>\n",
              "      <td>0.595284</td>\n",
              "      <td>0.499868</td>\n",
              "    </tr>\n",
              "    <tr>\n",
              "      <th>min</th>\n",
              "      <td>17.500000</td>\n",
              "      <td>48.000000</td>\n",
              "      <td>1.200000</td>\n",
              "      <td>0.000000</td>\n",
              "      <td>6.900000</td>\n",
              "      <td>1012.600000</td>\n",
              "      <td>0.000000</td>\n",
              "    </tr>\n",
              "    <tr>\n",
              "      <th>25%</th>\n",
              "      <td>21.000000</td>\n",
              "      <td>61.000000</td>\n",
              "      <td>3.700000</td>\n",
              "      <td>118.000000</td>\n",
              "      <td>9.000000</td>\n",
              "      <td>1014.800000</td>\n",
              "      <td>0.000000</td>\n",
              "    </tr>\n",
              "    <tr>\n",
              "      <th>50%</th>\n",
              "      <td>23.400000</td>\n",
              "      <td>68.000000</td>\n",
              "      <td>5.100000</td>\n",
              "      <td>178.000000</td>\n",
              "      <td>9.900000</td>\n",
              "      <td>1015.200000</td>\n",
              "      <td>1.000000</td>\n",
              "    </tr>\n",
              "    <tr>\n",
              "      <th>75%</th>\n",
              "      <td>26.100000</td>\n",
              "      <td>73.000000</td>\n",
              "      <td>7.100000</td>\n",
              "      <td>258.000000</td>\n",
              "      <td>11.300000</td>\n",
              "      <td>1015.600000</td>\n",
              "      <td>1.000000</td>\n",
              "    </tr>\n",
              "    <tr>\n",
              "      <th>max</th>\n",
              "      <td>30.400000</td>\n",
              "      <td>83.000000</td>\n",
              "      <td>11.100000</td>\n",
              "      <td>358.000000</td>\n",
              "      <td>14.500000</td>\n",
              "      <td>1017.200000</td>\n",
              "      <td>1.000000</td>\n",
              "    </tr>\n",
              "  </tbody>\n",
              "</table>\n",
              "</div>\n",
              "    <div class=\"colab-df-buttons\">\n",
              "\n",
              "  <div class=\"colab-df-container\">\n",
              "    <button class=\"colab-df-convert\" onclick=\"convertToInteractive('df-073cb9f5-7cc3-4dbb-9d95-1988ef7babfb')\"\n",
              "            title=\"Convert this dataframe to an interactive table.\"\n",
              "            style=\"display:none;\">\n",
              "\n",
              "  <svg xmlns=\"http://www.w3.org/2000/svg\" height=\"24px\" viewBox=\"0 -960 960 960\">\n",
              "    <path d=\"M120-120v-720h720v720H120Zm60-500h600v-160H180v160Zm220 220h160v-160H400v160Zm0 220h160v-160H400v160ZM180-400h160v-160H180v160Zm440 0h160v-160H620v160ZM180-180h160v-160H180v160Zm440 0h160v-160H620v160Z\"/>\n",
              "  </svg>\n",
              "    </button>\n",
              "\n",
              "  <style>\n",
              "    .colab-df-container {\n",
              "      display:flex;\n",
              "      gap: 12px;\n",
              "    }\n",
              "\n",
              "    .colab-df-convert {\n",
              "      background-color: #E8F0FE;\n",
              "      border: none;\n",
              "      border-radius: 50%;\n",
              "      cursor: pointer;\n",
              "      display: none;\n",
              "      fill: #1967D2;\n",
              "      height: 32px;\n",
              "      padding: 0 0 0 0;\n",
              "      width: 32px;\n",
              "    }\n",
              "\n",
              "    .colab-df-convert:hover {\n",
              "      background-color: #E2EBFA;\n",
              "      box-shadow: 0px 1px 2px rgba(60, 64, 67, 0.3), 0px 1px 3px 1px rgba(60, 64, 67, 0.15);\n",
              "      fill: #174EA6;\n",
              "    }\n",
              "\n",
              "    .colab-df-buttons div {\n",
              "      margin-bottom: 4px;\n",
              "    }\n",
              "\n",
              "    [theme=dark] .colab-df-convert {\n",
              "      background-color: #3B4455;\n",
              "      fill: #D2E3FC;\n",
              "    }\n",
              "\n",
              "    [theme=dark] .colab-df-convert:hover {\n",
              "      background-color: #434B5C;\n",
              "      box-shadow: 0px 1px 3px 1px rgba(0, 0, 0, 0.15);\n",
              "      filter: drop-shadow(0px 1px 2px rgba(0, 0, 0, 0.3));\n",
              "      fill: #FFFFFF;\n",
              "    }\n",
              "  </style>\n",
              "\n",
              "    <script>\n",
              "      const buttonEl =\n",
              "        document.querySelector('#df-073cb9f5-7cc3-4dbb-9d95-1988ef7babfb button.colab-df-convert');\n",
              "      buttonEl.style.display =\n",
              "        google.colab.kernel.accessAllowed ? 'block' : 'none';\n",
              "\n",
              "      async function convertToInteractive(key) {\n",
              "        const element = document.querySelector('#df-073cb9f5-7cc3-4dbb-9d95-1988ef7babfb');\n",
              "        const dataTable =\n",
              "          await google.colab.kernel.invokeFunction('convertToInteractive',\n",
              "                                                    [key], {});\n",
              "        if (!dataTable) return;\n",
              "\n",
              "        const docLinkHtml = 'Like what you see? Visit the ' +\n",
              "          '<a target=\"_blank\" href=https://colab.research.google.com/notebooks/data_table.ipynb>data table notebook</a>'\n",
              "          + ' to learn more about interactive tables.';\n",
              "        element.innerHTML = '';\n",
              "        dataTable['output_type'] = 'display_data';\n",
              "        await google.colab.output.renderOutput(dataTable, element);\n",
              "        const docLink = document.createElement('div');\n",
              "        docLink.innerHTML = docLinkHtml;\n",
              "        element.appendChild(docLink);\n",
              "      }\n",
              "    </script>\n",
              "  </div>\n",
              "\n",
              "\n",
              "<div id=\"df-2c3e1245-3b4e-4096-b0e7-ab9fb334bddd\">\n",
              "  <button class=\"colab-df-quickchart\" onclick=\"quickchart('df-2c3e1245-3b4e-4096-b0e7-ab9fb334bddd')\"\n",
              "            title=\"Suggest charts.\"\n",
              "            style=\"display:none;\">\n",
              "\n",
              "<svg xmlns=\"http://www.w3.org/2000/svg\" height=\"24px\"viewBox=\"0 0 24 24\"\n",
              "     width=\"24px\">\n",
              "    <g>\n",
              "        <path d=\"M19 3H5c-1.1 0-2 .9-2 2v14c0 1.1.9 2 2 2h14c1.1 0 2-.9 2-2V5c0-1.1-.9-2-2-2zM9 17H7v-7h2v7zm4 0h-2V7h2v10zm4 0h-2v-4h2v4z\"/>\n",
              "    </g>\n",
              "</svg>\n",
              "  </button>\n",
              "\n",
              "<style>\n",
              "  .colab-df-quickchart {\n",
              "    background-color: #E8F0FE;\n",
              "    border: none;\n",
              "    border-radius: 50%;\n",
              "    cursor: pointer;\n",
              "    display: none;\n",
              "    fill: #1967D2;\n",
              "    height: 32px;\n",
              "    padding: 0 0 0 0;\n",
              "    width: 32px;\n",
              "  }\n",
              "\n",
              "  .colab-df-quickchart:hover {\n",
              "    background-color: #E2EBFA;\n",
              "    box-shadow: 0px 1px 2px rgba(60, 64, 67, 0.3), 0px 1px 3px 1px rgba(60, 64, 67, 0.15);\n",
              "    fill: #174EA6;\n",
              "  }\n",
              "\n",
              "  [theme=dark] .colab-df-quickchart {\n",
              "    background-color: #3B4455;\n",
              "    fill: #D2E3FC;\n",
              "  }\n",
              "\n",
              "  [theme=dark] .colab-df-quickchart:hover {\n",
              "    background-color: #434B5C;\n",
              "    box-shadow: 0px 1px 3px 1px rgba(0, 0, 0, 0.15);\n",
              "    filter: drop-shadow(0px 1px 2px rgba(0, 0, 0, 0.3));\n",
              "    fill: #FFFFFF;\n",
              "  }\n",
              "</style>\n",
              "\n",
              "  <script>\n",
              "    async function quickchart(key) {\n",
              "      const charts = await google.colab.kernel.invokeFunction(\n",
              "          'suggestCharts', [key], {});\n",
              "    }\n",
              "    (() => {\n",
              "      let quickchartButtonEl =\n",
              "        document.querySelector('#df-2c3e1245-3b4e-4096-b0e7-ab9fb334bddd button');\n",
              "      quickchartButtonEl.style.display =\n",
              "        google.colab.kernel.accessAllowed ? 'block' : 'none';\n",
              "    })();\n",
              "  </script>\n",
              "</div>\n",
              "    </div>\n",
              "  </div>\n"
            ]
          },
          "metadata": {},
          "execution_count": 7
        }
      ],
      "source": [
        "# información estadística del dataframe\n",
        "data.describe()"
      ]
    },
    {
      "cell_type": "code",
      "source": [
        "# información general del dataframe\n",
        "data.info()"
      ],
      "metadata": {
        "id": "a3rK-HCkObGi",
        "colab": {
          "base_uri": "https://localhost:8080/"
        },
        "outputId": "62f1c736-0554-4416-bf9b-e9561f49aafb"
      },
      "execution_count": 8,
      "outputs": [
        {
          "output_type": "stream",
          "name": "stdout",
          "text": [
            "<class 'pandas.core.frame.DataFrame'>\n",
            "RangeIndex: 4020 entries, 0 to 4019\n",
            "Data columns (total 8 columns):\n",
            " #   Column                 Non-Null Count  Dtype  \n",
            "---  ------                 --------------  -----  \n",
            " 0   Temperatura            4020 non-null   float64\n",
            " 1   Humedad                4020 non-null   int64  \n",
            " 2   Velocidad_viento       4020 non-null   float64\n",
            " 3   Direccion_viento       4020 non-null   int64  \n",
            " 4   Visibilidad            4020 non-null   float64\n",
            " 5   Presion                4020 non-null   float64\n",
            " 6   Enfermedad             4020 non-null   object \n",
            " 7   Enfermedad_por_numero  4020 non-null   int64  \n",
            "dtypes: float64(4), int64(3), object(1)\n",
            "memory usage: 251.4+ KB\n"
          ]
        }
      ]
    },
    {
      "cell_type": "code",
      "source": [
        "# información general de la cantidad de filas y columnas del dataframe\n",
        "data.shape"
      ],
      "metadata": {
        "id": "WQqPF2hWOdpa",
        "colab": {
          "base_uri": "https://localhost:8080/"
        },
        "outputId": "17d0b1f6-cdd0-4e6d-e16c-ab76828c7f2b"
      },
      "execution_count": 9,
      "outputs": [
        {
          "output_type": "execute_result",
          "data": {
            "text/plain": [
              "(4020, 8)"
            ]
          },
          "metadata": {},
          "execution_count": 9
        }
      ]
    },
    {
      "cell_type": "code",
      "source": [
        "# información del contenido en la fila 960\n",
        "data.loc[960]"
      ],
      "metadata": {
        "colab": {
          "base_uri": "https://localhost:8080/"
        },
        "id": "utuWrDuDdm1B",
        "outputId": "569089fe-c73b-4eab-dcc1-ceaeca8764bb"
      },
      "execution_count": 10,
      "outputs": [
        {
          "output_type": "execute_result",
          "data": {
            "text/plain": [
              "Temperatura                      20.5\n",
              "Humedad                            75\n",
              "Velocidad_viento                  4.0\n",
              "Direccion_viento                  128\n",
              "Visibilidad                      11.4\n",
              "Presion                        1014.9\n",
              "Enfermedad               Early Blight\n",
              "Enfermedad_por_numero               1\n",
              "Name: 960, dtype: object"
            ]
          },
          "metadata": {},
          "execution_count": 10
        }
      ]
    },
    {
      "cell_type": "code",
      "source": [
        "data.loc[50]"
      ],
      "metadata": {
        "colab": {
          "base_uri": "https://localhost:8080/"
        },
        "id": "8wSl0sIlJDyb",
        "outputId": "832d0eef-0a36-4ea8-f47b-7da59758f20f"
      },
      "execution_count": 11,
      "outputs": [
        {
          "output_type": "execute_result",
          "data": {
            "text/plain": [
              "Temperatura                      18.6\n",
              "Humedad                            78\n",
              "Velocidad_viento                  3.2\n",
              "Direccion_viento                  182\n",
              "Visibilidad                      12.8\n",
              "Presion                        1015.5\n",
              "Enfermedad               Early Blight\n",
              "Enfermedad_por_numero               1\n",
              "Name: 50, dtype: object"
            ]
          },
          "metadata": {},
          "execution_count": 11
        }
      ]
    },
    {
      "cell_type": "code",
      "source": [
        "data.loc[4000]"
      ],
      "metadata": {
        "colab": {
          "base_uri": "https://localhost:8080/"
        },
        "id": "9RZe3Mo-59EA",
        "outputId": "12d1f21a-9bd8-4a55-8133-51ebb532eed8"
      },
      "execution_count": 12,
      "outputs": [
        {
          "output_type": "execute_result",
          "data": {
            "text/plain": [
              "Temperatura                     28.1\n",
              "Humedad                           59\n",
              "Velocidad_viento                 9.3\n",
              "Direccion_viento                 349\n",
              "Visibilidad                      8.6\n",
              "Presion                       1015.2\n",
              "Enfermedad               Late Blight\n",
              "Enfermedad_por_numero              0\n",
              "Name: 4000, dtype: object"
            ]
          },
          "metadata": {},
          "execution_count": 12
        }
      ]
    },
    {
      "cell_type": "markdown",
      "source": [
        "TRANSFORMACIÓN DE LOS DATOS"
      ],
      "metadata": {
        "id": "PJ4zrwI0ANKt"
      }
    },
    {
      "cell_type": "code",
      "execution_count": 13,
      "metadata": {
        "id": "DYM3K9RT1H_2"
      },
      "outputs": [],
      "source": [
        "# eliminamos la columna enfermedad por ser duplicado\n",
        "data = data.drop(['Enfermedad'], axis=1)"
      ]
    },
    {
      "cell_type": "markdown",
      "source": [
        "Escalamiento\n",
        "\n",
        "1.   Objetivo: Ajustar los datos para que estén dentro de un rango específico sin alterar su distribución.\n",
        "2.   Método: Se realiza reescalando cada valor individual a una nueva escala utilizando una función que transforma los datos de manera lineal."
      ],
      "metadata": {
        "id": "y2hUCGU3Au3I"
      }
    },
    {
      "cell_type": "code",
      "source": [
        "#creamos una instancia del objeto MinMaxScaler()\n",
        "scaler = MinMaxScaler()\n",
        "# creamos una variable datos_escalamiento, establecemos las columnas a escalar\n",
        "datos_escalamiento = scaler.fit_transform(data[['Temperatura','Humedad','Velocidad_viento','Direccion_viento','Visibilidad','Presion']])\n",
        "# establecemos el dataframe datos_escalamiento con los nombres de las columnas originales\n",
        "datos_escalamiento = pd.DataFrame(datos_escalamiento, columns =['Temperatura','Humedad','Velocidad_viento','Direccion_viento','Visibilidad','Presion'])\n",
        "# La columna 'Enfermedad_por_numero' del DataFrame original 'data' se agrega al DataFrame escalado 'datos_escalamiento'\n",
        "datos_escalamiento['Enfermedad_por_numero'] = data['Enfermedad_por_numero']"
      ],
      "metadata": {
        "id": "hZ2mJ1dYARnN"
      },
      "execution_count": 14,
      "outputs": []
    },
    {
      "cell_type": "code",
      "source": [
        "datos_escalamiento"
      ],
      "metadata": {
        "colab": {
          "base_uri": "https://localhost:8080/",
          "height": 424
        },
        "id": "dploAdx1Ylgz",
        "outputId": "3e8089c6-1bac-4a66-9086-c1f25332246c"
      },
      "execution_count": 15,
      "outputs": [
        {
          "output_type": "execute_result",
          "data": {
            "text/plain": [
              "      Temperatura   Humedad  Velocidad_viento  Direccion_viento  Visibilidad  \\\n",
              "0        0.093023  0.828571          0.575758          0.175978     0.539474   \n",
              "1        0.457364  0.457143          0.343434          0.382682     0.263158   \n",
              "2        0.201550  0.685714          0.202020          0.525140     0.407895   \n",
              "3        0.627907  0.371429          0.595960          0.787709     0.355263   \n",
              "4        0.155039  0.857143          0.434343          0.290503     0.736842   \n",
              "...           ...       ...               ...               ...          ...   \n",
              "4015     0.294574  0.771429          0.272727          0.365922     0.657895   \n",
              "4016     0.589147  0.542857          0.626263          0.717877     0.197368   \n",
              "4017     0.170543  0.885714          0.282828          0.259777     0.552632   \n",
              "4018     0.837209  0.285714          0.848485          0.988827     0.250000   \n",
              "4019     0.674419  0.400000          0.686869          0.692737     0.276316   \n",
              "\n",
              "       Presion  Enfermedad_por_numero  \n",
              "0     0.630435                      1  \n",
              "1     0.956522                      0  \n",
              "2     0.478261                      1  \n",
              "3     0.565217                      0  \n",
              "4     0.760870                      1  \n",
              "...        ...                    ...  \n",
              "4015  0.652174                      1  \n",
              "4016  0.739130                      0  \n",
              "4017  0.413043                      1  \n",
              "4018  0.608696                      0  \n",
              "4019  0.630435                      1  \n",
              "\n",
              "[4020 rows x 7 columns]"
            ],
            "text/html": [
              "\n",
              "  <div id=\"df-b20fc89b-5b47-40e9-8a02-d0ff9fb5d1e4\" class=\"colab-df-container\">\n",
              "    <div>\n",
              "<style scoped>\n",
              "    .dataframe tbody tr th:only-of-type {\n",
              "        vertical-align: middle;\n",
              "    }\n",
              "\n",
              "    .dataframe tbody tr th {\n",
              "        vertical-align: top;\n",
              "    }\n",
              "\n",
              "    .dataframe thead th {\n",
              "        text-align: right;\n",
              "    }\n",
              "</style>\n",
              "<table border=\"1\" class=\"dataframe\">\n",
              "  <thead>\n",
              "    <tr style=\"text-align: right;\">\n",
              "      <th></th>\n",
              "      <th>Temperatura</th>\n",
              "      <th>Humedad</th>\n",
              "      <th>Velocidad_viento</th>\n",
              "      <th>Direccion_viento</th>\n",
              "      <th>Visibilidad</th>\n",
              "      <th>Presion</th>\n",
              "      <th>Enfermedad_por_numero</th>\n",
              "    </tr>\n",
              "  </thead>\n",
              "  <tbody>\n",
              "    <tr>\n",
              "      <th>0</th>\n",
              "      <td>0.093023</td>\n",
              "      <td>0.828571</td>\n",
              "      <td>0.575758</td>\n",
              "      <td>0.175978</td>\n",
              "      <td>0.539474</td>\n",
              "      <td>0.630435</td>\n",
              "      <td>1</td>\n",
              "    </tr>\n",
              "    <tr>\n",
              "      <th>1</th>\n",
              "      <td>0.457364</td>\n",
              "      <td>0.457143</td>\n",
              "      <td>0.343434</td>\n",
              "      <td>0.382682</td>\n",
              "      <td>0.263158</td>\n",
              "      <td>0.956522</td>\n",
              "      <td>0</td>\n",
              "    </tr>\n",
              "    <tr>\n",
              "      <th>2</th>\n",
              "      <td>0.201550</td>\n",
              "      <td>0.685714</td>\n",
              "      <td>0.202020</td>\n",
              "      <td>0.525140</td>\n",
              "      <td>0.407895</td>\n",
              "      <td>0.478261</td>\n",
              "      <td>1</td>\n",
              "    </tr>\n",
              "    <tr>\n",
              "      <th>3</th>\n",
              "      <td>0.627907</td>\n",
              "      <td>0.371429</td>\n",
              "      <td>0.595960</td>\n",
              "      <td>0.787709</td>\n",
              "      <td>0.355263</td>\n",
              "      <td>0.565217</td>\n",
              "      <td>0</td>\n",
              "    </tr>\n",
              "    <tr>\n",
              "      <th>4</th>\n",
              "      <td>0.155039</td>\n",
              "      <td>0.857143</td>\n",
              "      <td>0.434343</td>\n",
              "      <td>0.290503</td>\n",
              "      <td>0.736842</td>\n",
              "      <td>0.760870</td>\n",
              "      <td>1</td>\n",
              "    </tr>\n",
              "    <tr>\n",
              "      <th>...</th>\n",
              "      <td>...</td>\n",
              "      <td>...</td>\n",
              "      <td>...</td>\n",
              "      <td>...</td>\n",
              "      <td>...</td>\n",
              "      <td>...</td>\n",
              "      <td>...</td>\n",
              "    </tr>\n",
              "    <tr>\n",
              "      <th>4015</th>\n",
              "      <td>0.294574</td>\n",
              "      <td>0.771429</td>\n",
              "      <td>0.272727</td>\n",
              "      <td>0.365922</td>\n",
              "      <td>0.657895</td>\n",
              "      <td>0.652174</td>\n",
              "      <td>1</td>\n",
              "    </tr>\n",
              "    <tr>\n",
              "      <th>4016</th>\n",
              "      <td>0.589147</td>\n",
              "      <td>0.542857</td>\n",
              "      <td>0.626263</td>\n",
              "      <td>0.717877</td>\n",
              "      <td>0.197368</td>\n",
              "      <td>0.739130</td>\n",
              "      <td>0</td>\n",
              "    </tr>\n",
              "    <tr>\n",
              "      <th>4017</th>\n",
              "      <td>0.170543</td>\n",
              "      <td>0.885714</td>\n",
              "      <td>0.282828</td>\n",
              "      <td>0.259777</td>\n",
              "      <td>0.552632</td>\n",
              "      <td>0.413043</td>\n",
              "      <td>1</td>\n",
              "    </tr>\n",
              "    <tr>\n",
              "      <th>4018</th>\n",
              "      <td>0.837209</td>\n",
              "      <td>0.285714</td>\n",
              "      <td>0.848485</td>\n",
              "      <td>0.988827</td>\n",
              "      <td>0.250000</td>\n",
              "      <td>0.608696</td>\n",
              "      <td>0</td>\n",
              "    </tr>\n",
              "    <tr>\n",
              "      <th>4019</th>\n",
              "      <td>0.674419</td>\n",
              "      <td>0.400000</td>\n",
              "      <td>0.686869</td>\n",
              "      <td>0.692737</td>\n",
              "      <td>0.276316</td>\n",
              "      <td>0.630435</td>\n",
              "      <td>1</td>\n",
              "    </tr>\n",
              "  </tbody>\n",
              "</table>\n",
              "<p>4020 rows × 7 columns</p>\n",
              "</div>\n",
              "    <div class=\"colab-df-buttons\">\n",
              "\n",
              "  <div class=\"colab-df-container\">\n",
              "    <button class=\"colab-df-convert\" onclick=\"convertToInteractive('df-b20fc89b-5b47-40e9-8a02-d0ff9fb5d1e4')\"\n",
              "            title=\"Convert this dataframe to an interactive table.\"\n",
              "            style=\"display:none;\">\n",
              "\n",
              "  <svg xmlns=\"http://www.w3.org/2000/svg\" height=\"24px\" viewBox=\"0 -960 960 960\">\n",
              "    <path d=\"M120-120v-720h720v720H120Zm60-500h600v-160H180v160Zm220 220h160v-160H400v160Zm0 220h160v-160H400v160ZM180-400h160v-160H180v160Zm440 0h160v-160H620v160ZM180-180h160v-160H180v160Zm440 0h160v-160H620v160Z\"/>\n",
              "  </svg>\n",
              "    </button>\n",
              "\n",
              "  <style>\n",
              "    .colab-df-container {\n",
              "      display:flex;\n",
              "      gap: 12px;\n",
              "    }\n",
              "\n",
              "    .colab-df-convert {\n",
              "      background-color: #E8F0FE;\n",
              "      border: none;\n",
              "      border-radius: 50%;\n",
              "      cursor: pointer;\n",
              "      display: none;\n",
              "      fill: #1967D2;\n",
              "      height: 32px;\n",
              "      padding: 0 0 0 0;\n",
              "      width: 32px;\n",
              "    }\n",
              "\n",
              "    .colab-df-convert:hover {\n",
              "      background-color: #E2EBFA;\n",
              "      box-shadow: 0px 1px 2px rgba(60, 64, 67, 0.3), 0px 1px 3px 1px rgba(60, 64, 67, 0.15);\n",
              "      fill: #174EA6;\n",
              "    }\n",
              "\n",
              "    .colab-df-buttons div {\n",
              "      margin-bottom: 4px;\n",
              "    }\n",
              "\n",
              "    [theme=dark] .colab-df-convert {\n",
              "      background-color: #3B4455;\n",
              "      fill: #D2E3FC;\n",
              "    }\n",
              "\n",
              "    [theme=dark] .colab-df-convert:hover {\n",
              "      background-color: #434B5C;\n",
              "      box-shadow: 0px 1px 3px 1px rgba(0, 0, 0, 0.15);\n",
              "      filter: drop-shadow(0px 1px 2px rgba(0, 0, 0, 0.3));\n",
              "      fill: #FFFFFF;\n",
              "    }\n",
              "  </style>\n",
              "\n",
              "    <script>\n",
              "      const buttonEl =\n",
              "        document.querySelector('#df-b20fc89b-5b47-40e9-8a02-d0ff9fb5d1e4 button.colab-df-convert');\n",
              "      buttonEl.style.display =\n",
              "        google.colab.kernel.accessAllowed ? 'block' : 'none';\n",
              "\n",
              "      async function convertToInteractive(key) {\n",
              "        const element = document.querySelector('#df-b20fc89b-5b47-40e9-8a02-d0ff9fb5d1e4');\n",
              "        const dataTable =\n",
              "          await google.colab.kernel.invokeFunction('convertToInteractive',\n",
              "                                                    [key], {});\n",
              "        if (!dataTable) return;\n",
              "\n",
              "        const docLinkHtml = 'Like what you see? Visit the ' +\n",
              "          '<a target=\"_blank\" href=https://colab.research.google.com/notebooks/data_table.ipynb>data table notebook</a>'\n",
              "          + ' to learn more about interactive tables.';\n",
              "        element.innerHTML = '';\n",
              "        dataTable['output_type'] = 'display_data';\n",
              "        await google.colab.output.renderOutput(dataTable, element);\n",
              "        const docLink = document.createElement('div');\n",
              "        docLink.innerHTML = docLinkHtml;\n",
              "        element.appendChild(docLink);\n",
              "      }\n",
              "    </script>\n",
              "  </div>\n",
              "\n",
              "\n",
              "<div id=\"df-3a06eca6-2688-46b8-ba7b-5b37b4dc8e96\">\n",
              "  <button class=\"colab-df-quickchart\" onclick=\"quickchart('df-3a06eca6-2688-46b8-ba7b-5b37b4dc8e96')\"\n",
              "            title=\"Suggest charts.\"\n",
              "            style=\"display:none;\">\n",
              "\n",
              "<svg xmlns=\"http://www.w3.org/2000/svg\" height=\"24px\"viewBox=\"0 0 24 24\"\n",
              "     width=\"24px\">\n",
              "    <g>\n",
              "        <path d=\"M19 3H5c-1.1 0-2 .9-2 2v14c0 1.1.9 2 2 2h14c1.1 0 2-.9 2-2V5c0-1.1-.9-2-2-2zM9 17H7v-7h2v7zm4 0h-2V7h2v10zm4 0h-2v-4h2v4z\"/>\n",
              "    </g>\n",
              "</svg>\n",
              "  </button>\n",
              "\n",
              "<style>\n",
              "  .colab-df-quickchart {\n",
              "    background-color: #E8F0FE;\n",
              "    border: none;\n",
              "    border-radius: 50%;\n",
              "    cursor: pointer;\n",
              "    display: none;\n",
              "    fill: #1967D2;\n",
              "    height: 32px;\n",
              "    padding: 0 0 0 0;\n",
              "    width: 32px;\n",
              "  }\n",
              "\n",
              "  .colab-df-quickchart:hover {\n",
              "    background-color: #E2EBFA;\n",
              "    box-shadow: 0px 1px 2px rgba(60, 64, 67, 0.3), 0px 1px 3px 1px rgba(60, 64, 67, 0.15);\n",
              "    fill: #174EA6;\n",
              "  }\n",
              "\n",
              "  [theme=dark] .colab-df-quickchart {\n",
              "    background-color: #3B4455;\n",
              "    fill: #D2E3FC;\n",
              "  }\n",
              "\n",
              "  [theme=dark] .colab-df-quickchart:hover {\n",
              "    background-color: #434B5C;\n",
              "    box-shadow: 0px 1px 3px 1px rgba(0, 0, 0, 0.15);\n",
              "    filter: drop-shadow(0px 1px 2px rgba(0, 0, 0, 0.3));\n",
              "    fill: #FFFFFF;\n",
              "  }\n",
              "</style>\n",
              "\n",
              "  <script>\n",
              "    async function quickchart(key) {\n",
              "      const charts = await google.colab.kernel.invokeFunction(\n",
              "          'suggestCharts', [key], {});\n",
              "    }\n",
              "    (() => {\n",
              "      let quickchartButtonEl =\n",
              "        document.querySelector('#df-3a06eca6-2688-46b8-ba7b-5b37b4dc8e96 button');\n",
              "      quickchartButtonEl.style.display =\n",
              "        google.colab.kernel.accessAllowed ? 'block' : 'none';\n",
              "    })();\n",
              "  </script>\n",
              "</div>\n",
              "    </div>\n",
              "  </div>\n"
            ]
          },
          "metadata": {},
          "execution_count": 15
        }
      ]
    },
    {
      "cell_type": "markdown",
      "source": [
        "Normalización\n",
        "\n",
        "\n",
        "1.   Objetivo: Transformar los datos para que estén en un rango específico, generalmente entre 0 y 1.\n",
        "\n",
        "2.   Método: Se aplica una transformación lineal para ajustar los datos dentro del rango deseado.\n",
        "\n"
      ],
      "metadata": {
        "id": "cTI2pomeZQpT"
      }
    },
    {
      "cell_type": "code",
      "source": [
        "scaler = MinMaxScaler()\n",
        "datos_normalizacion = scaler.fit_transform(data[['Temperatura','Humedad','Velocidad_viento','Direccion_viento','Visibilidad','Presion']])\n",
        "datos_normalizacion = pd.DataFrame(datos_normalizacion, columns =['Temperatura','Humedad','Velocidad_viento','Direccion_viento','Visibilidad','Presion'])\n",
        "datos_normalizacion['Enfermedad_por_numero'] = data['Enfermedad_por_numero']\n",
        "datos_normalizacion"
      ],
      "metadata": {
        "colab": {
          "base_uri": "https://localhost:8080/",
          "height": 424
        },
        "id": "bvYqsskoYwXf",
        "outputId": "ac3a2719-aefd-4f9b-8627-91d4635fb904"
      },
      "execution_count": 16,
      "outputs": [
        {
          "output_type": "execute_result",
          "data": {
            "text/plain": [
              "      Temperatura   Humedad  Velocidad_viento  Direccion_viento  Visibilidad  \\\n",
              "0        0.093023  0.828571          0.575758          0.175978     0.539474   \n",
              "1        0.457364  0.457143          0.343434          0.382682     0.263158   \n",
              "2        0.201550  0.685714          0.202020          0.525140     0.407895   \n",
              "3        0.627907  0.371429          0.595960          0.787709     0.355263   \n",
              "4        0.155039  0.857143          0.434343          0.290503     0.736842   \n",
              "...           ...       ...               ...               ...          ...   \n",
              "4015     0.294574  0.771429          0.272727          0.365922     0.657895   \n",
              "4016     0.589147  0.542857          0.626263          0.717877     0.197368   \n",
              "4017     0.170543  0.885714          0.282828          0.259777     0.552632   \n",
              "4018     0.837209  0.285714          0.848485          0.988827     0.250000   \n",
              "4019     0.674419  0.400000          0.686869          0.692737     0.276316   \n",
              "\n",
              "       Presion  Enfermedad_por_numero  \n",
              "0     0.630435                      1  \n",
              "1     0.956522                      0  \n",
              "2     0.478261                      1  \n",
              "3     0.565217                      0  \n",
              "4     0.760870                      1  \n",
              "...        ...                    ...  \n",
              "4015  0.652174                      1  \n",
              "4016  0.739130                      0  \n",
              "4017  0.413043                      1  \n",
              "4018  0.608696                      0  \n",
              "4019  0.630435                      1  \n",
              "\n",
              "[4020 rows x 7 columns]"
            ],
            "text/html": [
              "\n",
              "  <div id=\"df-5237c509-02ee-4ce8-9090-34e1290b934a\" class=\"colab-df-container\">\n",
              "    <div>\n",
              "<style scoped>\n",
              "    .dataframe tbody tr th:only-of-type {\n",
              "        vertical-align: middle;\n",
              "    }\n",
              "\n",
              "    .dataframe tbody tr th {\n",
              "        vertical-align: top;\n",
              "    }\n",
              "\n",
              "    .dataframe thead th {\n",
              "        text-align: right;\n",
              "    }\n",
              "</style>\n",
              "<table border=\"1\" class=\"dataframe\">\n",
              "  <thead>\n",
              "    <tr style=\"text-align: right;\">\n",
              "      <th></th>\n",
              "      <th>Temperatura</th>\n",
              "      <th>Humedad</th>\n",
              "      <th>Velocidad_viento</th>\n",
              "      <th>Direccion_viento</th>\n",
              "      <th>Visibilidad</th>\n",
              "      <th>Presion</th>\n",
              "      <th>Enfermedad_por_numero</th>\n",
              "    </tr>\n",
              "  </thead>\n",
              "  <tbody>\n",
              "    <tr>\n",
              "      <th>0</th>\n",
              "      <td>0.093023</td>\n",
              "      <td>0.828571</td>\n",
              "      <td>0.575758</td>\n",
              "      <td>0.175978</td>\n",
              "      <td>0.539474</td>\n",
              "      <td>0.630435</td>\n",
              "      <td>1</td>\n",
              "    </tr>\n",
              "    <tr>\n",
              "      <th>1</th>\n",
              "      <td>0.457364</td>\n",
              "      <td>0.457143</td>\n",
              "      <td>0.343434</td>\n",
              "      <td>0.382682</td>\n",
              "      <td>0.263158</td>\n",
              "      <td>0.956522</td>\n",
              "      <td>0</td>\n",
              "    </tr>\n",
              "    <tr>\n",
              "      <th>2</th>\n",
              "      <td>0.201550</td>\n",
              "      <td>0.685714</td>\n",
              "      <td>0.202020</td>\n",
              "      <td>0.525140</td>\n",
              "      <td>0.407895</td>\n",
              "      <td>0.478261</td>\n",
              "      <td>1</td>\n",
              "    </tr>\n",
              "    <tr>\n",
              "      <th>3</th>\n",
              "      <td>0.627907</td>\n",
              "      <td>0.371429</td>\n",
              "      <td>0.595960</td>\n",
              "      <td>0.787709</td>\n",
              "      <td>0.355263</td>\n",
              "      <td>0.565217</td>\n",
              "      <td>0</td>\n",
              "    </tr>\n",
              "    <tr>\n",
              "      <th>4</th>\n",
              "      <td>0.155039</td>\n",
              "      <td>0.857143</td>\n",
              "      <td>0.434343</td>\n",
              "      <td>0.290503</td>\n",
              "      <td>0.736842</td>\n",
              "      <td>0.760870</td>\n",
              "      <td>1</td>\n",
              "    </tr>\n",
              "    <tr>\n",
              "      <th>...</th>\n",
              "      <td>...</td>\n",
              "      <td>...</td>\n",
              "      <td>...</td>\n",
              "      <td>...</td>\n",
              "      <td>...</td>\n",
              "      <td>...</td>\n",
              "      <td>...</td>\n",
              "    </tr>\n",
              "    <tr>\n",
              "      <th>4015</th>\n",
              "      <td>0.294574</td>\n",
              "      <td>0.771429</td>\n",
              "      <td>0.272727</td>\n",
              "      <td>0.365922</td>\n",
              "      <td>0.657895</td>\n",
              "      <td>0.652174</td>\n",
              "      <td>1</td>\n",
              "    </tr>\n",
              "    <tr>\n",
              "      <th>4016</th>\n",
              "      <td>0.589147</td>\n",
              "      <td>0.542857</td>\n",
              "      <td>0.626263</td>\n",
              "      <td>0.717877</td>\n",
              "      <td>0.197368</td>\n",
              "      <td>0.739130</td>\n",
              "      <td>0</td>\n",
              "    </tr>\n",
              "    <tr>\n",
              "      <th>4017</th>\n",
              "      <td>0.170543</td>\n",
              "      <td>0.885714</td>\n",
              "      <td>0.282828</td>\n",
              "      <td>0.259777</td>\n",
              "      <td>0.552632</td>\n",
              "      <td>0.413043</td>\n",
              "      <td>1</td>\n",
              "    </tr>\n",
              "    <tr>\n",
              "      <th>4018</th>\n",
              "      <td>0.837209</td>\n",
              "      <td>0.285714</td>\n",
              "      <td>0.848485</td>\n",
              "      <td>0.988827</td>\n",
              "      <td>0.250000</td>\n",
              "      <td>0.608696</td>\n",
              "      <td>0</td>\n",
              "    </tr>\n",
              "    <tr>\n",
              "      <th>4019</th>\n",
              "      <td>0.674419</td>\n",
              "      <td>0.400000</td>\n",
              "      <td>0.686869</td>\n",
              "      <td>0.692737</td>\n",
              "      <td>0.276316</td>\n",
              "      <td>0.630435</td>\n",
              "      <td>1</td>\n",
              "    </tr>\n",
              "  </tbody>\n",
              "</table>\n",
              "<p>4020 rows × 7 columns</p>\n",
              "</div>\n",
              "    <div class=\"colab-df-buttons\">\n",
              "\n",
              "  <div class=\"colab-df-container\">\n",
              "    <button class=\"colab-df-convert\" onclick=\"convertToInteractive('df-5237c509-02ee-4ce8-9090-34e1290b934a')\"\n",
              "            title=\"Convert this dataframe to an interactive table.\"\n",
              "            style=\"display:none;\">\n",
              "\n",
              "  <svg xmlns=\"http://www.w3.org/2000/svg\" height=\"24px\" viewBox=\"0 -960 960 960\">\n",
              "    <path d=\"M120-120v-720h720v720H120Zm60-500h600v-160H180v160Zm220 220h160v-160H400v160Zm0 220h160v-160H400v160ZM180-400h160v-160H180v160Zm440 0h160v-160H620v160ZM180-180h160v-160H180v160Zm440 0h160v-160H620v160Z\"/>\n",
              "  </svg>\n",
              "    </button>\n",
              "\n",
              "  <style>\n",
              "    .colab-df-container {\n",
              "      display:flex;\n",
              "      gap: 12px;\n",
              "    }\n",
              "\n",
              "    .colab-df-convert {\n",
              "      background-color: #E8F0FE;\n",
              "      border: none;\n",
              "      border-radius: 50%;\n",
              "      cursor: pointer;\n",
              "      display: none;\n",
              "      fill: #1967D2;\n",
              "      height: 32px;\n",
              "      padding: 0 0 0 0;\n",
              "      width: 32px;\n",
              "    }\n",
              "\n",
              "    .colab-df-convert:hover {\n",
              "      background-color: #E2EBFA;\n",
              "      box-shadow: 0px 1px 2px rgba(60, 64, 67, 0.3), 0px 1px 3px 1px rgba(60, 64, 67, 0.15);\n",
              "      fill: #174EA6;\n",
              "    }\n",
              "\n",
              "    .colab-df-buttons div {\n",
              "      margin-bottom: 4px;\n",
              "    }\n",
              "\n",
              "    [theme=dark] .colab-df-convert {\n",
              "      background-color: #3B4455;\n",
              "      fill: #D2E3FC;\n",
              "    }\n",
              "\n",
              "    [theme=dark] .colab-df-convert:hover {\n",
              "      background-color: #434B5C;\n",
              "      box-shadow: 0px 1px 3px 1px rgba(0, 0, 0, 0.15);\n",
              "      filter: drop-shadow(0px 1px 2px rgba(0, 0, 0, 0.3));\n",
              "      fill: #FFFFFF;\n",
              "    }\n",
              "  </style>\n",
              "\n",
              "    <script>\n",
              "      const buttonEl =\n",
              "        document.querySelector('#df-5237c509-02ee-4ce8-9090-34e1290b934a button.colab-df-convert');\n",
              "      buttonEl.style.display =\n",
              "        google.colab.kernel.accessAllowed ? 'block' : 'none';\n",
              "\n",
              "      async function convertToInteractive(key) {\n",
              "        const element = document.querySelector('#df-5237c509-02ee-4ce8-9090-34e1290b934a');\n",
              "        const dataTable =\n",
              "          await google.colab.kernel.invokeFunction('convertToInteractive',\n",
              "                                                    [key], {});\n",
              "        if (!dataTable) return;\n",
              "\n",
              "        const docLinkHtml = 'Like what you see? Visit the ' +\n",
              "          '<a target=\"_blank\" href=https://colab.research.google.com/notebooks/data_table.ipynb>data table notebook</a>'\n",
              "          + ' to learn more about interactive tables.';\n",
              "        element.innerHTML = '';\n",
              "        dataTable['output_type'] = 'display_data';\n",
              "        await google.colab.output.renderOutput(dataTable, element);\n",
              "        const docLink = document.createElement('div');\n",
              "        docLink.innerHTML = docLinkHtml;\n",
              "        element.appendChild(docLink);\n",
              "      }\n",
              "    </script>\n",
              "  </div>\n",
              "\n",
              "\n",
              "<div id=\"df-74ffdd46-d448-46ef-ab3c-6ba74a37c900\">\n",
              "  <button class=\"colab-df-quickchart\" onclick=\"quickchart('df-74ffdd46-d448-46ef-ab3c-6ba74a37c900')\"\n",
              "            title=\"Suggest charts.\"\n",
              "            style=\"display:none;\">\n",
              "\n",
              "<svg xmlns=\"http://www.w3.org/2000/svg\" height=\"24px\"viewBox=\"0 0 24 24\"\n",
              "     width=\"24px\">\n",
              "    <g>\n",
              "        <path d=\"M19 3H5c-1.1 0-2 .9-2 2v14c0 1.1.9 2 2 2h14c1.1 0 2-.9 2-2V5c0-1.1-.9-2-2-2zM9 17H7v-7h2v7zm4 0h-2V7h2v10zm4 0h-2v-4h2v4z\"/>\n",
              "    </g>\n",
              "</svg>\n",
              "  </button>\n",
              "\n",
              "<style>\n",
              "  .colab-df-quickchart {\n",
              "    background-color: #E8F0FE;\n",
              "    border: none;\n",
              "    border-radius: 50%;\n",
              "    cursor: pointer;\n",
              "    display: none;\n",
              "    fill: #1967D2;\n",
              "    height: 32px;\n",
              "    padding: 0 0 0 0;\n",
              "    width: 32px;\n",
              "  }\n",
              "\n",
              "  .colab-df-quickchart:hover {\n",
              "    background-color: #E2EBFA;\n",
              "    box-shadow: 0px 1px 2px rgba(60, 64, 67, 0.3), 0px 1px 3px 1px rgba(60, 64, 67, 0.15);\n",
              "    fill: #174EA6;\n",
              "  }\n",
              "\n",
              "  [theme=dark] .colab-df-quickchart {\n",
              "    background-color: #3B4455;\n",
              "    fill: #D2E3FC;\n",
              "  }\n",
              "\n",
              "  [theme=dark] .colab-df-quickchart:hover {\n",
              "    background-color: #434B5C;\n",
              "    box-shadow: 0px 1px 3px 1px rgba(0, 0, 0, 0.15);\n",
              "    filter: drop-shadow(0px 1px 2px rgba(0, 0, 0, 0.3));\n",
              "    fill: #FFFFFF;\n",
              "  }\n",
              "</style>\n",
              "\n",
              "  <script>\n",
              "    async function quickchart(key) {\n",
              "      const charts = await google.colab.kernel.invokeFunction(\n",
              "          'suggestCharts', [key], {});\n",
              "    }\n",
              "    (() => {\n",
              "      let quickchartButtonEl =\n",
              "        document.querySelector('#df-74ffdd46-d448-46ef-ab3c-6ba74a37c900 button');\n",
              "      quickchartButtonEl.style.display =\n",
              "        google.colab.kernel.accessAllowed ? 'block' : 'none';\n",
              "    })();\n",
              "  </script>\n",
              "</div>\n",
              "    </div>\n",
              "  </div>\n"
            ]
          },
          "metadata": {},
          "execution_count": 16
        }
      ]
    },
    {
      "cell_type": "markdown",
      "source": [
        "Estandarización\n",
        "\n",
        "Objetivo: Transformar los datos para que tengan una media de 0 y una desviación estándar de 1, es decir, seguir una distribución normal (Gaussiana).\n",
        "\n",
        "\n"
      ],
      "metadata": {
        "id": "dB-YQXNxgpgf"
      }
    },
    {
      "cell_type": "code",
      "source": [
        "scaler = StandardScaler()\n",
        "datos_estandarizacion = scaler.fit_transform(data[['Temperatura','Humedad','Velocidad_viento','Direccion_viento','Visibilidad','Presion']])\n",
        "datos_estandarizacion = pd.DataFrame(datos_estandarizacion, columns =['Temperatura','Humedad','Velocidad_viento','Direccion_viento','Visibilidad','Presion'])\n",
        "datos_estandarizacion['Enfermedad_por_numero'] = data['Enfermedad_por_numero']\n",
        "datos_estandarizacion"
      ],
      "metadata": {
        "colab": {
          "base_uri": "https://localhost:8080/",
          "height": 424
        },
        "id": "9WIVnT74gnp3",
        "outputId": "b3ba3fba-49de-436f-9dc0-02ae764ad963"
      },
      "execution_count": 17,
      "outputs": [
        {
          "output_type": "execute_result",
          "data": {
            "text/plain": [
              "      Temperatura   Humedad  Velocidad_viento  Direccion_viento  Visibilidad  \\\n",
              "0       -1.679980  1.431259          0.707443         -1.350544     0.706509   \n",
              "1       -0.062049 -0.476551         -0.380641         -0.526504    -0.963242   \n",
              "2       -1.198043  0.697486         -1.042953          0.041415    -0.088610   \n",
              "3        0.695281 -0.916815          0.802059          1.088169    -0.406658   \n",
              "4       -1.404588  1.578014          0.045131         -0.893981     1.899189   \n",
              "...           ...       ...               ...               ...          ...   \n",
              "4015    -0.784954  1.137750         -0.711797         -0.593318     1.422117   \n",
              "4016     0.523160 -0.036287          0.943983          0.809777    -1.360802   \n",
              "4017    -1.335740  1.724768         -0.664489         -1.016474     0.786021   \n",
              "4018     1.624731 -1.357079          1.984759          1.889937    -1.042754   \n",
              "4019     0.901825 -0.770060          1.227831          0.709556    -0.883730   \n",
              "\n",
              "       Presion  Enfermedad_por_numero  \n",
              "0     0.559400                      1  \n",
              "1     3.079521                      0  \n",
              "2    -0.616657                      1  \n",
              "3     0.055376                      0  \n",
              "4     1.567448                      1  \n",
              "...        ...                    ...  \n",
              "4015  0.727408                      1  \n",
              "4016  1.399440                      0  \n",
              "4017 -1.120681                      1  \n",
              "4018  0.391392                      0  \n",
              "4019  0.559400                      1  \n",
              "\n",
              "[4020 rows x 7 columns]"
            ],
            "text/html": [
              "\n",
              "  <div id=\"df-eeb0c8ff-dfee-4a86-852f-979f3443fc91\" class=\"colab-df-container\">\n",
              "    <div>\n",
              "<style scoped>\n",
              "    .dataframe tbody tr th:only-of-type {\n",
              "        vertical-align: middle;\n",
              "    }\n",
              "\n",
              "    .dataframe tbody tr th {\n",
              "        vertical-align: top;\n",
              "    }\n",
              "\n",
              "    .dataframe thead th {\n",
              "        text-align: right;\n",
              "    }\n",
              "</style>\n",
              "<table border=\"1\" class=\"dataframe\">\n",
              "  <thead>\n",
              "    <tr style=\"text-align: right;\">\n",
              "      <th></th>\n",
              "      <th>Temperatura</th>\n",
              "      <th>Humedad</th>\n",
              "      <th>Velocidad_viento</th>\n",
              "      <th>Direccion_viento</th>\n",
              "      <th>Visibilidad</th>\n",
              "      <th>Presion</th>\n",
              "      <th>Enfermedad_por_numero</th>\n",
              "    </tr>\n",
              "  </thead>\n",
              "  <tbody>\n",
              "    <tr>\n",
              "      <th>0</th>\n",
              "      <td>-1.679980</td>\n",
              "      <td>1.431259</td>\n",
              "      <td>0.707443</td>\n",
              "      <td>-1.350544</td>\n",
              "      <td>0.706509</td>\n",
              "      <td>0.559400</td>\n",
              "      <td>1</td>\n",
              "    </tr>\n",
              "    <tr>\n",
              "      <th>1</th>\n",
              "      <td>-0.062049</td>\n",
              "      <td>-0.476551</td>\n",
              "      <td>-0.380641</td>\n",
              "      <td>-0.526504</td>\n",
              "      <td>-0.963242</td>\n",
              "      <td>3.079521</td>\n",
              "      <td>0</td>\n",
              "    </tr>\n",
              "    <tr>\n",
              "      <th>2</th>\n",
              "      <td>-1.198043</td>\n",
              "      <td>0.697486</td>\n",
              "      <td>-1.042953</td>\n",
              "      <td>0.041415</td>\n",
              "      <td>-0.088610</td>\n",
              "      <td>-0.616657</td>\n",
              "      <td>1</td>\n",
              "    </tr>\n",
              "    <tr>\n",
              "      <th>3</th>\n",
              "      <td>0.695281</td>\n",
              "      <td>-0.916815</td>\n",
              "      <td>0.802059</td>\n",
              "      <td>1.088169</td>\n",
              "      <td>-0.406658</td>\n",
              "      <td>0.055376</td>\n",
              "      <td>0</td>\n",
              "    </tr>\n",
              "    <tr>\n",
              "      <th>4</th>\n",
              "      <td>-1.404588</td>\n",
              "      <td>1.578014</td>\n",
              "      <td>0.045131</td>\n",
              "      <td>-0.893981</td>\n",
              "      <td>1.899189</td>\n",
              "      <td>1.567448</td>\n",
              "      <td>1</td>\n",
              "    </tr>\n",
              "    <tr>\n",
              "      <th>...</th>\n",
              "      <td>...</td>\n",
              "      <td>...</td>\n",
              "      <td>...</td>\n",
              "      <td>...</td>\n",
              "      <td>...</td>\n",
              "      <td>...</td>\n",
              "      <td>...</td>\n",
              "    </tr>\n",
              "    <tr>\n",
              "      <th>4015</th>\n",
              "      <td>-0.784954</td>\n",
              "      <td>1.137750</td>\n",
              "      <td>-0.711797</td>\n",
              "      <td>-0.593318</td>\n",
              "      <td>1.422117</td>\n",
              "      <td>0.727408</td>\n",
              "      <td>1</td>\n",
              "    </tr>\n",
              "    <tr>\n",
              "      <th>4016</th>\n",
              "      <td>0.523160</td>\n",
              "      <td>-0.036287</td>\n",
              "      <td>0.943983</td>\n",
              "      <td>0.809777</td>\n",
              "      <td>-1.360802</td>\n",
              "      <td>1.399440</td>\n",
              "      <td>0</td>\n",
              "    </tr>\n",
              "    <tr>\n",
              "      <th>4017</th>\n",
              "      <td>-1.335740</td>\n",
              "      <td>1.724768</td>\n",
              "      <td>-0.664489</td>\n",
              "      <td>-1.016474</td>\n",
              "      <td>0.786021</td>\n",
              "      <td>-1.120681</td>\n",
              "      <td>1</td>\n",
              "    </tr>\n",
              "    <tr>\n",
              "      <th>4018</th>\n",
              "      <td>1.624731</td>\n",
              "      <td>-1.357079</td>\n",
              "      <td>1.984759</td>\n",
              "      <td>1.889937</td>\n",
              "      <td>-1.042754</td>\n",
              "      <td>0.391392</td>\n",
              "      <td>0</td>\n",
              "    </tr>\n",
              "    <tr>\n",
              "      <th>4019</th>\n",
              "      <td>0.901825</td>\n",
              "      <td>-0.770060</td>\n",
              "      <td>1.227831</td>\n",
              "      <td>0.709556</td>\n",
              "      <td>-0.883730</td>\n",
              "      <td>0.559400</td>\n",
              "      <td>1</td>\n",
              "    </tr>\n",
              "  </tbody>\n",
              "</table>\n",
              "<p>4020 rows × 7 columns</p>\n",
              "</div>\n",
              "    <div class=\"colab-df-buttons\">\n",
              "\n",
              "  <div class=\"colab-df-container\">\n",
              "    <button class=\"colab-df-convert\" onclick=\"convertToInteractive('df-eeb0c8ff-dfee-4a86-852f-979f3443fc91')\"\n",
              "            title=\"Convert this dataframe to an interactive table.\"\n",
              "            style=\"display:none;\">\n",
              "\n",
              "  <svg xmlns=\"http://www.w3.org/2000/svg\" height=\"24px\" viewBox=\"0 -960 960 960\">\n",
              "    <path d=\"M120-120v-720h720v720H120Zm60-500h600v-160H180v160Zm220 220h160v-160H400v160Zm0 220h160v-160H400v160ZM180-400h160v-160H180v160Zm440 0h160v-160H620v160ZM180-180h160v-160H180v160Zm440 0h160v-160H620v160Z\"/>\n",
              "  </svg>\n",
              "    </button>\n",
              "\n",
              "  <style>\n",
              "    .colab-df-container {\n",
              "      display:flex;\n",
              "      gap: 12px;\n",
              "    }\n",
              "\n",
              "    .colab-df-convert {\n",
              "      background-color: #E8F0FE;\n",
              "      border: none;\n",
              "      border-radius: 50%;\n",
              "      cursor: pointer;\n",
              "      display: none;\n",
              "      fill: #1967D2;\n",
              "      height: 32px;\n",
              "      padding: 0 0 0 0;\n",
              "      width: 32px;\n",
              "    }\n",
              "\n",
              "    .colab-df-convert:hover {\n",
              "      background-color: #E2EBFA;\n",
              "      box-shadow: 0px 1px 2px rgba(60, 64, 67, 0.3), 0px 1px 3px 1px rgba(60, 64, 67, 0.15);\n",
              "      fill: #174EA6;\n",
              "    }\n",
              "\n",
              "    .colab-df-buttons div {\n",
              "      margin-bottom: 4px;\n",
              "    }\n",
              "\n",
              "    [theme=dark] .colab-df-convert {\n",
              "      background-color: #3B4455;\n",
              "      fill: #D2E3FC;\n",
              "    }\n",
              "\n",
              "    [theme=dark] .colab-df-convert:hover {\n",
              "      background-color: #434B5C;\n",
              "      box-shadow: 0px 1px 3px 1px rgba(0, 0, 0, 0.15);\n",
              "      filter: drop-shadow(0px 1px 2px rgba(0, 0, 0, 0.3));\n",
              "      fill: #FFFFFF;\n",
              "    }\n",
              "  </style>\n",
              "\n",
              "    <script>\n",
              "      const buttonEl =\n",
              "        document.querySelector('#df-eeb0c8ff-dfee-4a86-852f-979f3443fc91 button.colab-df-convert');\n",
              "      buttonEl.style.display =\n",
              "        google.colab.kernel.accessAllowed ? 'block' : 'none';\n",
              "\n",
              "      async function convertToInteractive(key) {\n",
              "        const element = document.querySelector('#df-eeb0c8ff-dfee-4a86-852f-979f3443fc91');\n",
              "        const dataTable =\n",
              "          await google.colab.kernel.invokeFunction('convertToInteractive',\n",
              "                                                    [key], {});\n",
              "        if (!dataTable) return;\n",
              "\n",
              "        const docLinkHtml = 'Like what you see? Visit the ' +\n",
              "          '<a target=\"_blank\" href=https://colab.research.google.com/notebooks/data_table.ipynb>data table notebook</a>'\n",
              "          + ' to learn more about interactive tables.';\n",
              "        element.innerHTML = '';\n",
              "        dataTable['output_type'] = 'display_data';\n",
              "        await google.colab.output.renderOutput(dataTable, element);\n",
              "        const docLink = document.createElement('div');\n",
              "        docLink.innerHTML = docLinkHtml;\n",
              "        element.appendChild(docLink);\n",
              "      }\n",
              "    </script>\n",
              "  </div>\n",
              "\n",
              "\n",
              "<div id=\"df-b6830d39-f757-4429-998f-9e7addff9218\">\n",
              "  <button class=\"colab-df-quickchart\" onclick=\"quickchart('df-b6830d39-f757-4429-998f-9e7addff9218')\"\n",
              "            title=\"Suggest charts.\"\n",
              "            style=\"display:none;\">\n",
              "\n",
              "<svg xmlns=\"http://www.w3.org/2000/svg\" height=\"24px\"viewBox=\"0 0 24 24\"\n",
              "     width=\"24px\">\n",
              "    <g>\n",
              "        <path d=\"M19 3H5c-1.1 0-2 .9-2 2v14c0 1.1.9 2 2 2h14c1.1 0 2-.9 2-2V5c0-1.1-.9-2-2-2zM9 17H7v-7h2v7zm4 0h-2V7h2v10zm4 0h-2v-4h2v4z\"/>\n",
              "    </g>\n",
              "</svg>\n",
              "  </button>\n",
              "\n",
              "<style>\n",
              "  .colab-df-quickchart {\n",
              "    background-color: #E8F0FE;\n",
              "    border: none;\n",
              "    border-radius: 50%;\n",
              "    cursor: pointer;\n",
              "    display: none;\n",
              "    fill: #1967D2;\n",
              "    height: 32px;\n",
              "    padding: 0 0 0 0;\n",
              "    width: 32px;\n",
              "  }\n",
              "\n",
              "  .colab-df-quickchart:hover {\n",
              "    background-color: #E2EBFA;\n",
              "    box-shadow: 0px 1px 2px rgba(60, 64, 67, 0.3), 0px 1px 3px 1px rgba(60, 64, 67, 0.15);\n",
              "    fill: #174EA6;\n",
              "  }\n",
              "\n",
              "  [theme=dark] .colab-df-quickchart {\n",
              "    background-color: #3B4455;\n",
              "    fill: #D2E3FC;\n",
              "  }\n",
              "\n",
              "  [theme=dark] .colab-df-quickchart:hover {\n",
              "    background-color: #434B5C;\n",
              "    box-shadow: 0px 1px 3px 1px rgba(0, 0, 0, 0.15);\n",
              "    filter: drop-shadow(0px 1px 2px rgba(0, 0, 0, 0.3));\n",
              "    fill: #FFFFFF;\n",
              "  }\n",
              "</style>\n",
              "\n",
              "  <script>\n",
              "    async function quickchart(key) {\n",
              "      const charts = await google.colab.kernel.invokeFunction(\n",
              "          'suggestCharts', [key], {});\n",
              "    }\n",
              "    (() => {\n",
              "      let quickchartButtonEl =\n",
              "        document.querySelector('#df-b6830d39-f757-4429-998f-9e7addff9218 button');\n",
              "      quickchartButtonEl.style.display =\n",
              "        google.colab.kernel.accessAllowed ? 'block' : 'none';\n",
              "    })();\n",
              "  </script>\n",
              "</div>\n",
              "    </div>\n",
              "  </div>\n"
            ]
          },
          "metadata": {},
          "execution_count": 17
        }
      ]
    },
    {
      "cell_type": "markdown",
      "metadata": {
        "id": "sCS3hVpGNyMO"
      },
      "source": [
        "MODELADO"
      ]
    },
    {
      "cell_type": "code",
      "source": [
        "#Separación de datos para el modelo\n",
        "from sklearn import linear_model\n",
        "from sklearn.model_selection import train_test_split\n",
        "from sklearn.preprocessing import LabelEncoder\n",
        "# Seleccionamos el dataframe con el que trabajaremos\n",
        "# Definimos las variables predictoras o independientes, en este caso X contendrá todas la columnas excepto la columna 'enfermedad_por_numero'\n",
        "X = data.drop('Enfermedad_por_numero',axis=1).to_numpy().astype(float)\n",
        "# Y es la variable a predecir o dependiente, en este caso la columna 'Enfermedad_por_numero'\n",
        "Y = data['Enfermedad_por_numero']\n",
        "Y = LabelEncoder().fit_transform(Y).astype(float)\n",
        "# X_train: Las características de entrenamiento que se utilizarán para entrenar tu modelo.\n",
        "# X_test: Las características de prueba que se utilizarán para evaluar el rendimiento del modelo.\n",
        "# Y_train: Los valores objetivo correspondientes a X_train, utilizados para entrenar el modelo.\n",
        "# Y_test: Los valores objetivo correspondientes a X_test, utilizados para evaluar el rendimiento del modelo.\n",
        "X_train, X_test, Y_train, Y_test = train_test_split(X,Y,test_size = 0.3, random_state = 42, shuffle=True)\n",
        "# imprime los valores de entrenamiento y prueba\n",
        "X_train.shape, X_test.shape, Y_train.shape, Y_test.shape"
      ],
      "metadata": {
        "colab": {
          "base_uri": "https://localhost:8080/"
        },
        "id": "8VAcombq_QCW",
        "outputId": "33f5044e-b538-4ed1-e115-a858cf9138fd"
      },
      "execution_count": 18,
      "outputs": [
        {
          "output_type": "execute_result",
          "data": {
            "text/plain": [
              "((2814, 6), (1206, 6), (2814,), (1206,))"
            ]
          },
          "metadata": {},
          "execution_count": 18
        }
      ]
    },
    {
      "cell_type": "markdown",
      "source": [
        "EVALUACIÓN DE ALGORITMOS"
      ],
      "metadata": {
        "id": "-9yiFLLRAqCy"
      }
    },
    {
      "cell_type": "code",
      "execution_count": 19,
      "metadata": {
        "colab": {
          "base_uri": "https://localhost:8080/"
        },
        "id": "4VXiAVmbEMrU",
        "outputId": "522e1b7b-5baa-4117-f149-7f651263a9bc"
      },
      "outputs": [
        {
          "output_type": "stream",
          "name": "stdout",
          "text": [
            "Precisión: 97.43 %\n"
          ]
        }
      ],
      "source": [
        "### REGRESIÓN LOGÍSTICA VALIDACIÓN CRUZADA\n",
        "from sklearn.linear_model import LogisticRegression\n",
        "\n",
        "model_logistic = LogisticRegression()\n",
        "model_logistic.fit(X_train, Y_train)\n",
        "acc_log_train = round(model_logistic.score(X_train, Y_train)*100,2)\n",
        "acc_log_test = round(model_logistic.score(X_test, Y_test)*100,2)\n",
        "print('Precisión: {} %'.format(acc_log_test))"
      ]
    },
    {
      "cell_type": "code",
      "source": [
        "#REGRESIÓN LOGÍSTICA CON VALIDACIÓN CRUZADA\n",
        "from sklearn.model_selection import cross_val_score\n",
        "from sklearn.model_selection import KFold\n",
        "k_fold= KFold(n_splits = 10, shuffle=True, random_state=42)\n",
        "val_cruz = cross_val_score(LogisticRegression(solver='lbfgs', max_iter=1000),X,\n",
        "                           Y, scoring='accuracy', cv=k_fold)\n",
        "print(f'Precisión: {val_cruz.mean()*100.0:,.2f}% ({val_cruz.std()*100.0:,.2f}%)')"
      ],
      "metadata": {
        "colab": {
          "base_uri": "https://localhost:8080/"
        },
        "id": "rEyIpKLQ4viS",
        "outputId": "8f0b8b5d-d4ce-4d25-fb61-2af2e0104446"
      },
      "execution_count": 20,
      "outputs": [
        {
          "output_type": "stream",
          "name": "stdout",
          "text": [
            "Precisión: 97.06% (0.85%)\n"
          ]
        }
      ]
    },
    {
      "cell_type": "code",
      "source": [
        "#MATRIZ DE CONFUSIÓN PARA MODELO DE REGRESIÓN LOGÍSTICA\n",
        "from sklearn.metrics._plot.confusion_matrix import confusion_matrix\n",
        "probs = model_logistic.predict_proba(X_test)\n",
        "prob = probs[:,1]\n",
        "prob_df=pd.DataFrame(prob)\n",
        "threshold = 0.15\n",
        "prob_df['prediccion']=np.where(prob_df[0]>=threshold,1,0)\n",
        "prob_df['actual'] =np.array(Y_test)\n",
        "confusion_matrix = pd.crosstab(prob_df.prediccion,prob_df.actual)\n",
        "\n",
        "# mostrar en un mapa de calor\n",
        "sns.heatmap(confusion_matrix, annot=True, cmap='Reds', fmt='d')\n",
        "plt.xlabel('Prediccion')\n",
        "plt.ylabel('Actual')\n",
        "plt.title('Matriz de confusión')\n",
        "plt.show()"
      ],
      "metadata": {
        "colab": {
          "base_uri": "https://localhost:8080/",
          "height": 472
        },
        "id": "G9buPnRzNIEp",
        "outputId": "74e720a0-79d2-4b47-c6db-e031decfea15"
      },
      "execution_count": 21,
      "outputs": [
        {
          "output_type": "display_data",
          "data": {
            "text/plain": [
              "<Figure size 640x480 with 2 Axes>"
            ],
            "image/png": "[encoded data removed]"
          },
          "metadata": {}
        }
      ]
    },
    {
      "cell_type": "code",
      "source": [
        "# CÁLCULO DE LA SENSIBILIDAD Y ESPECIFICIDAD\n",
        "# VP=Verdaderos positivos, VN = Verdaderos negativos, FP = Falsos positivos , FN = Falsos negativos\n",
        "VN = confusion_matrix[0][0]\n",
        "VP = confusion_matrix[1][1]\n",
        "FP = confusion_matrix[0][1]\n",
        "FN = confusion_matrix[1][0]\n",
        "\n",
        "sens = VP/(VP+FN)\n",
        "espc = 1-VN/(VN+FP)\n",
        "print(\"Sensibilidad: {} \".format(sens))\n",
        "print(\"Especificidad: {} \".format(espc))\n",
        "\n",
        "#GRAFICAMOS LA CURVA ROC (Receiver Operating Characteristic)\n",
        "espc, sens, _ = metrics.roc_curve(Y_test,prob)\n",
        "%matplotlib inline\n",
        "auc = metrics.auc(espc, sens)\n",
        "plt.plot(espc, sens, marker = 'o', linestyle = '--', color = 'r', label = 'Data, auc = '+str(auc))\n",
        "x = [i*0.01 for i in range(100)]\n",
        "y = [i*0.01 for i in range(100)]\n",
        "plt.plot(x,y)\n",
        "plt.xlabel('Especifidad')\n",
        "plt.ylabel('Sensibilidad')\n",
        "plt.title('Curva ROC')\n",
        "plt.legend(loc=4)"
      ],
      "metadata": {
        "colab": {
          "base_uri": "https://localhost:8080/",
          "height": 524
        },
        "id": "w99WHMFjqLiY",
        "outputId": "4d1ddb0f-0363-41ec-b72c-41f683fd14ad"
      },
      "execution_count": 22,
      "outputs": [
        {
          "output_type": "stream",
          "name": "stdout",
          "text": [
            "Sensibilidad: 0.981574539363484 \n",
            "Especificidad: 0.11165845648604267 \n"
          ]
        },
        {
          "output_type": "execute_result",
          "data": {
            "text/plain": [
              "<matplotlib.legend.Legend at 0x7dc336cdfa60>"
            ]
          },
          "metadata": {},
          "execution_count": 22
        },
        {
          "output_type": "display_data",
          "data": {
            "text/plain": [
              "<Figure size 640x480 with 1 Axes>"
            ],
            "image/png": "[encoded data removed]"
          },
          "metadata": {}
        }
      ]
    },
    {
      "cell_type": "code",
      "source": [
        "# K Vecinos cercanos\n",
        "from sklearn.neighbors import KNeighborsClassifier\n",
        "model_neigh = KNeighborsClassifier()\n",
        "model_neigh.fit(X_train, Y_train)\n",
        "print('Precisión: {} %'.format(round(model_neigh.score(X_train, Y_train)*100,2)))"
      ],
      "metadata": {
        "colab": {
          "base_uri": "https://localhost:8080/"
        },
        "id": "iy46Zc2q5nwb",
        "outputId": "ceaea7d8-106e-4991-bea3-c24b4dae296b"
      },
      "execution_count": 23,
      "outputs": [
        {
          "output_type": "stream",
          "name": "stdout",
          "text": [
            "Precisión: 97.05 %\n"
          ]
        }
      ]
    },
    {
      "cell_type": "code",
      "source": [
        "# k vecinos cercanos con cross validation\n",
        "val_cruz_kn = cross_val_score(KNeighborsClassifier(),X,\n",
        "                           Y, scoring='accuracy', cv=k_fold)\n",
        "print(f'Precisión: {val_cruz_kn.mean()*100.0:,.2f}%')"
      ],
      "metadata": {
        "colab": {
          "base_uri": "https://localhost:8080/"
        },
        "id": "cgHTYDJYnIlc",
        "outputId": "f49d76a5-3ff5-4383-cfad-df932f54781c"
      },
      "execution_count": 24,
      "outputs": [
        {
          "output_type": "stream",
          "name": "stdout",
          "text": [
            "Precisión: 96.72%\n"
          ]
        }
      ]
    },
    {
      "cell_type": "code",
      "source": [
        "from sklearn.metrics._plot.confusion_matrix import confusion_matrix\n",
        "probs = model_neigh.predict_proba(X_test)\n",
        "prob = probs[:,1]\n",
        "prob_df=pd.DataFrame(prob)\n",
        "threshold = 0.15\n",
        "prob_df['prediccion']=np.where(prob_df[0]>threshold,1,0)\n",
        "prob_df['actual'] =np.array(Y_test)\n",
        "confusion_matrix_kn = pd.crosstab(prob_df.prediccion,prob_df.actual)\n",
        "\n",
        "# mostrar en un mapa de calor\n",
        "sns.heatmap(confusion_matrix_kn, annot=True, cmap='Reds', fmt='d')\n",
        "plt.xlabel('Prediccion')\n",
        "plt.ylabel('Actual')\n",
        "plt.title('Matriz de confusión')\n",
        "plt.show()"
      ],
      "metadata": {
        "colab": {
          "base_uri": "https://localhost:8080/",
          "height": 472
        },
        "id": "Dk0MIx-gmFBj",
        "outputId": "77911be3-9d9a-4cd8-c35a-e9dfff9c7c29"
      },
      "execution_count": 25,
      "outputs": [
        {
          "output_type": "display_data",
          "data": {
            "text/plain": [
              "<Figure size 640x480 with 2 Axes>"
            ],
            "image/png": "[encoded data removed]"
          },
          "metadata": {}
        }
      ]
    },
    {
      "cell_type": "code",
      "source": [
        "# CÁLCULO DE LA SENSIBILIDAD Y ESPECIFICIDAD\n",
        "# VP=Verdaderos positivos, VN = Verdaderos negativos, FP = Falsos positivos , FN = Falsos negativos\n",
        "VN = confusion_matrix_kn[0][0]\n",
        "VP = confusion_matrix_kn[1][1]\n",
        "FP = confusion_matrix_kn[0][1]\n",
        "FN = confusion_matrix_kn[1][0]\n",
        "sens_1 = VP/(VP+FN)\n",
        "espc_1 = 1-VN/(VN+FP)\n",
        "print(\"Sensibilidad: {} \".format(sens_1))\n",
        "print(\"Especificidad: {} \".format(espc_1))\n",
        "\n",
        "#GRAFICAMOS LA CURVA ROC (Receiver Operating Characteristic)\n",
        "espc_1, sens_1, _ = metrics.roc_curve(Y_test,prob)\n",
        "%matplotlib inline\n",
        "auc = metrics.auc(espc_1, sens_1)\n",
        "plt.plot(espc_1, sens_1, marker = 'o', linestyle = '--', color = 'r', label = 'Data, auc = '+str(auc))\n",
        "x = [i*0.01 for i in range(100)]\n",
        "y = [i*0.01 for i in range(100)]\n",
        "plt.plot(x,y)\n",
        "plt.xlabel('Especifidad')\n",
        "plt.ylabel('Sensibilidad')\n",
        "plt.title('Curva ROC')\n",
        "plt.legend(loc=4)"
      ],
      "metadata": {
        "colab": {
          "base_uri": "https://localhost:8080/",
          "height": 524
        },
        "id": "0niuLVAJzGfG",
        "outputId": "e537270e-fd71-4085-9a55-fc729a24b969"
      },
      "execution_count": 26,
      "outputs": [
        {
          "output_type": "stream",
          "name": "stdout",
          "text": [
            "Sensibilidad: 0.9782244556113903 \n",
            "Especificidad: 0.12315270935960587 \n"
          ]
        },
        {
          "output_type": "execute_result",
          "data": {
            "text/plain": [
              "<matplotlib.legend.Legend at 0x7dc3372f35b0>"
            ]
          },
          "metadata": {},
          "execution_count": 26
        },
        {
          "output_type": "display_data",
          "data": {
            "text/plain": [
              "<Figure size 640x480 with 1 Axes>"
            ],
            "image/png": "[encoded data removed]"
          },
          "metadata": {}
        }
      ]
    },
    {
      "cell_type": "code",
      "source": [
        "# Máquina de vector de soporte\n",
        "from sklearn.svm import SVC\n",
        "model_svc = SVC(probability=True)\n",
        "model_svc.fit(X_train, Y_train)\n",
        "print('Precisión: {} %'.format(round(model_svc.score(X_train, Y_train)*100,2)))"
      ],
      "metadata": {
        "colab": {
          "base_uri": "https://localhost:8080/"
        },
        "id": "Rxux9EPXoldx",
        "outputId": "1c485ff8-ecc3-4d58-883e-6ddd83e92836"
      },
      "execution_count": 27,
      "outputs": [
        {
          "output_type": "stream",
          "name": "stdout",
          "text": [
            "Precisión: 85.11 %\n"
          ]
        }
      ]
    },
    {
      "cell_type": "code",
      "source": [
        "# Máquina de vector de soporte con cross validation\n",
        "val_cruz_svc = cross_val_score(SVC(),X,\n",
        "                           Y, scoring='accuracy', cv=k_fold)\n",
        "print(f'Precisión: {val_cruz_svc.mean()*100.0:,.2f}%')"
      ],
      "metadata": {
        "colab": {
          "base_uri": "https://localhost:8080/"
        },
        "id": "V0LCuKWEotDp",
        "outputId": "9057657b-02d4-4994-be7d-7446b0af4afd"
      },
      "execution_count": 28,
      "outputs": [
        {
          "output_type": "stream",
          "name": "stdout",
          "text": [
            "Precisión: 84.88%\n"
          ]
        }
      ]
    },
    {
      "cell_type": "code",
      "source": [
        "from sklearn.metrics._plot.confusion_matrix import confusion_matrix\n",
        "probs = model_svc.predict_proba(X_test)\n",
        "prob = probs[:,1]\n",
        "prob_df=pd.DataFrame(prob)\n",
        "threshold = 0.15\n",
        "prob_df['prediccion']=np.where(prob_df[0]>threshold,1,0)\n",
        "prob_df['actual'] =np.array(Y_test)\n",
        "confusion_matrix_svc = pd.crosstab(prob_df.prediccion,prob_df.actual)\n",
        "\n",
        "# mostrar en un mapa de calor\n",
        "sns.heatmap(confusion_matrix_svc, annot=True, cmap='Reds', fmt='d')\n",
        "plt.xlabel('Prediccion')\n",
        "plt.ylabel('Actual')\n",
        "plt.title('Matriz de confusión')\n",
        "plt.show()"
      ],
      "metadata": {
        "colab": {
          "base_uri": "https://localhost:8080/",
          "height": 472
        },
        "id": "0XWNupUsm1IY",
        "outputId": "d503d96a-83f2-4933-e1f0-a75fba4cd33a"
      },
      "execution_count": 29,
      "outputs": [
        {
          "output_type": "display_data",
          "data": {
            "text/plain": [
              "<Figure size 640x480 with 2 Axes>"
            ],
            "image/png": "[encoded data removed]"
          },
          "metadata": {}
        }
      ]
    },
    {
      "cell_type": "code",
      "source": [
        "# CÁLCULO DE LA SENSIBILIDAD Y ESPECIFICIDAD\n",
        "# VP=Verdaderos positivos, VN = Verdaderos negativos, FP = Falsos positivos , FN = Falsos negativos\n",
        "VN = confusion_matrix_svc[0][0]\n",
        "VP = confusion_matrix_svc[1][1]\n",
        "FP = confusion_matrix_svc[0][1]\n",
        "FN = confusion_matrix_svc[1][0]\n",
        "sens_2 = VP/(VP+FN)\n",
        "espc_2 = 1-VN/(VN+FP)\n",
        "print(\"Sensibilidad: {} \".format(sens_2))\n",
        "print(\"Especificidad: {} \".format(espc_2))\n",
        "\n",
        "#GRAFICAMOS LA CURVA ROC (Receiver Operating Characteristic)\n",
        "espc_2, sens_2, _ = metrics.roc_curve(Y_test,prob)\n",
        "%matplotlib inline\n",
        "auc = metrics.auc(espc_2, sens_2)\n",
        "plt.plot(espc_2, sens_2, marker = 'o', linestyle = '--', color = 'r', label = 'Data, auc = '+str(auc))\n",
        "x = [i*0.01 for i in range(100)]\n",
        "y = [i*0.01 for i in range(100)]\n",
        "plt.plot(x,y)\n",
        "plt.xlabel('Especifidad')\n",
        "plt.ylabel('Sensibilidad')\n",
        "plt.title('Curva ROC')\n",
        "plt.legend(loc=4)"
      ],
      "metadata": {
        "colab": {
          "base_uri": "https://localhost:8080/",
          "height": 524
        },
        "id": "pgtpS_Ls1L3o",
        "outputId": "ad25b694-66e2-4dc5-ec30-2edace79b37a"
      },
      "execution_count": 30,
      "outputs": [
        {
          "output_type": "stream",
          "name": "stdout",
          "text": [
            "Sensibilidad: 0.9865996649916248 \n",
            "Especificidad: 0.47126436781609193 \n"
          ]
        },
        {
          "output_type": "execute_result",
          "data": {
            "text/plain": [
              "<matplotlib.legend.Legend at 0x7dc33738b580>"
            ]
          },
          "metadata": {},
          "execution_count": 30
        },
        {
          "output_type": "display_data",
          "data": {
            "text/plain": [
              "<Figure size 640x480 with 1 Axes>"
            ],
            "image/png": "[encoded data removed]"
          },
          "metadata": {}
        }
      ]
    },
    {
      "cell_type": "code",
      "source": [
        "# Árbol de decisión\n",
        "from sklearn.tree import DecisionTreeClassifier\n",
        "model_tree = DecisionTreeClassifier()\n",
        "model_tree.fit(X_train, Y_train)\n",
        "print('Precisión: {} %'.format(round(model_tree.score(X_train, Y_train)*100,2)))"
      ],
      "metadata": {
        "colab": {
          "base_uri": "https://localhost:8080/"
        },
        "id": "4lsDUoOEpkeb",
        "outputId": "09e9eea7-2c5b-414a-9fec-d4ce86f90b31"
      },
      "execution_count": 31,
      "outputs": [
        {
          "output_type": "stream",
          "name": "stdout",
          "text": [
            "Precisión: 99.64 %\n"
          ]
        }
      ]
    },
    {
      "cell_type": "code",
      "source": [
        "# Árbol de decisión con cross validation\n",
        "val_cruz_tree = cross_val_score(DecisionTreeClassifier(),X,\n",
        "                           Y, scoring='accuracy', cv=k_fold)\n",
        "print(f'Precisión: {val_cruz_tree.mean()*100.0:,.2f}%')"
      ],
      "metadata": {
        "colab": {
          "base_uri": "https://localhost:8080/"
        },
        "id": "xqxiu_6TrGKU",
        "outputId": "d3561fad-b974-4104-a509-52feea32f36b"
      },
      "execution_count": 32,
      "outputs": [
        {
          "output_type": "stream",
          "name": "stdout",
          "text": [
            "Precisión: 95.25%\n"
          ]
        }
      ]
    },
    {
      "cell_type": "code",
      "source": [
        "from sklearn.metrics._plot.confusion_matrix import confusion_matrix\n",
        "probs = model_tree.predict_proba(X_test)\n",
        "prob = probs[:,1]\n",
        "prob_df=pd.DataFrame(prob)\n",
        "threshold = 0.15\n",
        "prob_df['prediccion']=np.where(prob_df[0]>threshold,1,0)\n",
        "prob_df['actual'] =np.array(Y_test)\n",
        "confusion_matrix_mt = pd.crosstab(prob_df.prediccion,prob_df.actual)\n",
        "\n",
        "# mostrar en un mapa de calor\n",
        "sns.heatmap(confusion_matrix_mt, annot=True, cmap='Reds', fmt='d')\n",
        "plt.xlabel('Prediccion')\n",
        "plt.ylabel('Actual')\n",
        "plt.title('Matriz de confusión')\n",
        "plt.show()"
      ],
      "metadata": {
        "colab": {
          "base_uri": "https://localhost:8080/",
          "height": 472
        },
        "id": "HJxnhqh3m94w",
        "outputId": "d1ddfd67-12b7-47db-cf1c-ecb61f14ecd0"
      },
      "execution_count": 33,
      "outputs": [
        {
          "output_type": "display_data",
          "data": {
            "text/plain": [
              "<Figure size 640x480 with 2 Axes>"
            ],
            "image/png": "[encoded data removed]"
          },
          "metadata": {}
        }
      ]
    },
    {
      "cell_type": "code",
      "source": [
        "# CÁLCULO DE LA SENSIBILIDAD Y ESPECIFICIDAD\n",
        "# VP=Verdaderos positivos, VN = Verdaderos negativos, FP = Falsos positivos , FN = Falsos negativos\n",
        "VN = confusion_matrix_mt[0][0]\n",
        "VP = confusion_matrix_mt[1][1]\n",
        "FP = confusion_matrix_mt[0][1]\n",
        "FN = confusion_matrix_mt[1][0]\n",
        "sens_3 = VP/(VP+FN)\n",
        "espc_3 = 1-VN/(VN+FP)\n",
        "print(\"Sensibilidad: {} \".format(sens_3))\n",
        "print(\"Especificidad: {} \".format(espc_3))\n",
        "\n",
        "#GRAFICAMOS LA CURVA ROC (Receiver Operating Characteristic)\n",
        "espc_3, sens_3, _ = metrics.roc_curve(Y_test,prob)\n",
        "%matplotlib inline\n",
        "auc = metrics.auc(espc_3, sens_3)\n",
        "plt.plot(espc_3, sens_3, marker = 'o', linestyle = '--', color = 'r', label = 'Data, auc = '+str(auc))\n",
        "x = [i*0.01 for i in range(100)]\n",
        "y = [i*0.01 for i in range(100)]\n",
        "plt.plot(x,y)\n",
        "plt.xlabel('Especifidad')\n",
        "plt.ylabel('Sensibilidad')\n",
        "plt.title('Curva ROC')\n",
        "plt.legend(loc=4)"
      ],
      "metadata": {
        "colab": {
          "base_uri": "https://localhost:8080/",
          "height": 524
        },
        "id": "Gsr3rzT53eJG",
        "outputId": "751d064e-05c6-4075-d138-cc54820a717a"
      },
      "execution_count": 34,
      "outputs": [
        {
          "output_type": "stream",
          "name": "stdout",
          "text": [
            "Sensibilidad: 0.9413735343383585 \n",
            "Especificidad: 0.049261083743842415 \n"
          ]
        },
        {
          "output_type": "execute_result",
          "data": {
            "text/plain": [
              "<matplotlib.legend.Legend at 0x7dc3371b0190>"
            ]
          },
          "metadata": {},
          "execution_count": 34
        },
        {
          "output_type": "display_data",
          "data": {
            "text/plain": [
              "<Figure size 640x480 with 1 Axes>"
            ],
            "image/png": "[encoded data removed]"
          },
          "metadata": {}
        }
      ]
    },
    {
      "cell_type": "code",
      "source": [
        "# Naive Bayes\n",
        "from sklearn.naive_bayes import GaussianNB\n",
        "model_naive = GaussianNB()\n",
        "model_naive.fit(X_train, Y_train)\n",
        "print('Precisión: {} %'.format(round(model_naive.score(X_train, Y_train)*100,2)))"
      ],
      "metadata": {
        "colab": {
          "base_uri": "https://localhost:8080/"
        },
        "id": "BJwvwee9rb3V",
        "outputId": "b6fd205a-ebf6-4e13-c5c1-06e984e56d4a"
      },
      "execution_count": 35,
      "outputs": [
        {
          "output_type": "stream",
          "name": "stdout",
          "text": [
            "Precisión: 96.38 %\n"
          ]
        }
      ]
    },
    {
      "cell_type": "code",
      "source": [
        "# Naive Bayes con cross validation\n",
        "val_cruz_naive = cross_val_score(GaussianNB(),X,\n",
        "                           Y, scoring='accuracy', cv=k_fold)\n",
        "print(f'Precisión: {val_cruz_naive.mean()*100.0:,.2f}%')"
      ],
      "metadata": {
        "colab": {
          "base_uri": "https://localhost:8080/"
        },
        "id": "n1pYX60Yr5Sa",
        "outputId": "569be67c-b8e5-4561-b7bf-292bbce6d956"
      },
      "execution_count": 36,
      "outputs": [
        {
          "output_type": "stream",
          "name": "stdout",
          "text": [
            "Precisión: 96.69%\n"
          ]
        }
      ]
    },
    {
      "cell_type": "code",
      "source": [
        "from sklearn.metrics._plot.confusion_matrix import confusion_matrix\n",
        "probs = model_naive.predict_proba(X_test)\n",
        "prob = probs[:,1]\n",
        "prob_df=pd.DataFrame(prob)\n",
        "threshold = 0.15\n",
        "prob_df['prediccion']=np.where(prob_df[0]>threshold,1,0)\n",
        "prob_df['actual'] =np.array(Y_test)\n",
        "confusion_matrix_nb = pd.crosstab(prob_df.prediccion,prob_df.actual)\n",
        "\n",
        "# mostrar en un mapa de calor\n",
        "sns.heatmap(confusion_matrix_nb, annot=True, cmap='Reds', fmt='d')\n",
        "plt.xlabel('Prediccion')\n",
        "plt.ylabel('Actual')\n",
        "plt.title('Matriz de confusión')\n",
        "plt.show()"
      ],
      "metadata": {
        "colab": {
          "base_uri": "https://localhost:8080/",
          "height": 472
        },
        "id": "Ep0t5O1D4lX0",
        "outputId": "b978d3a4-c63b-4e3c-cb11-a16a60d3107a"
      },
      "execution_count": 37,
      "outputs": [
        {
          "output_type": "display_data",
          "data": {
            "text/plain": [
              "<Figure size 640x480 with 2 Axes>"
            ],
            "image/png": "[encoded data removed]"
          },
          "metadata": {}
        }
      ]
    },
    {
      "cell_type": "code",
      "source": [
        "# CÁLCULO DE LA SENSIBILIDAD Y ESPECIFICIDAD\n",
        "# VP=Verdaderos positivos, VN = Verdaderos negativos, FP = Falsos positivos , FN = Falsos negativos\n",
        "VN = confusion_matrix_nb[0][0]\n",
        "VP = confusion_matrix_nb[1][1]\n",
        "FP = confusion_matrix_nb[0][1]\n",
        "FN = confusion_matrix_nb[1][0]\n",
        "sens_4 = VP/(VP+FN)\n",
        "espc_4 = 1-VN/(VN+FP)\n",
        "print(\"Sensibilidad: {} \".format(sens_4))\n",
        "print(\"Especificidad: {} \".format(espc_4))\n",
        "\n",
        "#GRAFICAMOS LA CURVA ROC (Receiver Operating Characteristic)\n",
        "espc_4, sens_4, _ = metrics.roc_curve(Y_test,prob)\n",
        "%matplotlib inline\n",
        "auc = metrics.auc(espc_4, sens_4)\n",
        "plt.plot(espc_4, sens_4, marker = 'o', linestyle = '--', color = 'r', label = 'Data, auc = '+str(auc))\n",
        "x = [i*0.01 for i in range(100)]\n",
        "y = [i*0.01 for i in range(100)]\n",
        "plt.plot(x,y)\n",
        "plt.xlabel('Especifidad')\n",
        "plt.ylabel('Sensibilidad')\n",
        "plt.title('Curva ROC')\n",
        "plt.legend(loc=4)"
      ],
      "metadata": {
        "colab": {
          "base_uri": "https://localhost:8080/",
          "height": 524
        },
        "id": "giKtnutP4Zy_",
        "outputId": "0a885e83-38cd-4406-b77d-62e336440034"
      },
      "execution_count": 38,
      "outputs": [
        {
          "output_type": "stream",
          "name": "stdout",
          "text": [
            "Sensibilidad: 0.9765494137353434 \n",
            "Especificidad: 0.03448275862068961 \n"
          ]
        },
        {
          "output_type": "execute_result",
          "data": {
            "text/plain": [
              "<matplotlib.legend.Legend at 0x7dc2fc8e85b0>"
            ]
          },
          "metadata": {},
          "execution_count": 38
        },
        {
          "output_type": "display_data",
          "data": {
            "text/plain": [
              "<Figure size 640x480 with 1 Axes>"
            ],
            "image/png": "[encoded data removed]"
          },
          "metadata": {}
        }
      ]
    },
    {
      "cell_type": "markdown",
      "source": [
        "PRUEBA DEL MODELO CON EL ALGORITMO CON MAYOR PRECISIÓN"
      ],
      "metadata": {
        "id": "zk35OFJ75Sai"
      }
    },
    {
      "cell_type": "code",
      "source": [
        "#PRUEBA DEL MODELO DE PREDICCIÓN CON LOGISTIC REGRESSION\n",
        "value_to_predict = X[960]\n",
        "result=model_logistic.predict([value_to_predict])\n",
        "if result[0]==1:\n",
        "  print('{} : Si tiene enfermedad inicial'.format(result[0]))\n",
        "else:\n",
        "  print('{} : Planta sin enfermedad'.format(result[0]))"
      ],
      "metadata": {
        "colab": {
          "base_uri": "https://localhost:8080/"
        },
        "id": "pkx_SQT2BDQV",
        "outputId": "68082c26-f4b1-40e7-bcc6-5f14d21c2555"
      },
      "execution_count": 39,
      "outputs": [
        {
          "output_type": "stream",
          "name": "stdout",
          "text": [
            "1.0 : Si tiene enfermedad inicial\n"
          ]
        }
      ]
    },
    {
      "cell_type": "code",
      "source": [
        "#PRUEBA DEL MODELO DE PREDICCIÓN CON LOGISTIC REGRESSION\n",
        "value_to_predict = X[50]\n",
        "result=model_logistic.predict([value_to_predict])\n",
        "if result[0]==1:\n",
        "  print('{} : Planta con enfermedad'.format(result[0]))\n",
        "else:\n",
        "  print('{} : Planta sin enfermedad'.format(result[0]))"
      ],
      "metadata": {
        "colab": {
          "base_uri": "https://localhost:8080/"
        },
        "id": "pVYpl284twj0",
        "outputId": "e0007815-e89f-42dd-c6b3-58d2712be7ae"
      },
      "execution_count": 40,
      "outputs": [
        {
          "output_type": "stream",
          "name": "stdout",
          "text": [
            "1.0 : Planta con enfermedad\n"
          ]
        }
      ]
    },
    {
      "cell_type": "code",
      "source": [
        "#PRUEBA DEL MODELO DE PREDICCIÓN CON LOGISTIC REGRESSION\n",
        "value_to_predict = X[4000]\n",
        "result=model_logistic.predict([value_to_predict])\n",
        "if result[0]==1:\n",
        "  print('{} : Planta con enfermedad'.format(result[0]))\n",
        "else:\n",
        "  print('{} : Planta sin enfermedad'.format(result[0]))"
      ],
      "metadata": {
        "colab": {
          "base_uri": "https://localhost:8080/"
        },
        "id": "FzyrKUcFnv4m",
        "outputId": "9d6ac693-883a-4ce4-9258-013d6374e985"
      },
      "execution_count": 41,
      "outputs": [
        {
          "output_type": "stream",
          "name": "stdout",
          "text": [
            "0.0 : Planta sin enfermedad\n"
          ]
        }
      ]
    }
  ],
  "metadata": {
    "colab": {
      "provenance": [],
      "include_colab_link": true
    },
    "kernelspec": {
      "display_name": "Python 3",
      "name": "python3"
    },
    "language_info": {
      "name": "python"
    }
  },
  "nbformat": 4,
  "nbformat_minor": 0
}